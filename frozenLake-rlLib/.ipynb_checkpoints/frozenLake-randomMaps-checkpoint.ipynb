{
 "cells": [
  {
   "cell_type": "markdown",
   "id": "b2d70bee-8a31-4d67-afff-25e144eb9b54",
   "metadata": {},
   "source": [
    "# TODO: Why testing performance is so worse than training\n",
    "\n",
    "\n",
    "Check this out\n",
    "\n",
    "https://docs.ray.io/en/latest/rllib/package_ref/evaluation.html\n"
   ]
  },
  {
   "cell_type": "code",
   "execution_count": 1,
   "id": "b97311a8-4f83-4fd6-bff4-de4bb7272f80",
   "metadata": {},
   "outputs": [
    {
     "name": "stdout",
     "output_type": "stream",
     "text": [
      "pygame 2.1.2 (SDL 2.0.16, Python 3.10.4)\n",
      "Hello from the pygame community. https://www.pygame.org/contribute.html\n"
     ]
    }
   ],
   "source": [
    "import gym\n",
    "import ray\n",
    "from ray.rllib.agents.ppo import PPOTrainer\n",
    "from ray.rllib.agents.dqn import DQNTrainer\n",
    "\n",
    "import pygame\n",
    "import numpy as np\n",
    "\n",
    "import torch\n",
    "from IPython.display import clear_output\n",
    "from IPython import display\n",
    "import random\n",
    "import matplotlib.pylab as plt\n",
    "import copy\n",
    "import time\n",
    "\n",
    "from typing import List, Optional\n",
    "from gym.envs.toy_text.frozen_lake import generate_random_map"
   ]
  },
  {
   "cell_type": "code",
   "execution_count": 2,
   "id": "5aa918f6-1bfb-490b-99c4-4846fef657e9",
   "metadata": {},
   "outputs": [],
   "source": [
    "class WrappedFrozenLake(gym.Wrapper):\n",
    "    def __init__(self, env):\n",
    "        super().__init__(env)\n",
    "        self.old = 0\n",
    "        self.desc = self.env.desc\n",
    "        self.size = len(self.desc)\n",
    "        self.observation_space = gym.spaces.Box(0,1,shape=(3*self.size*self.size,),dtype=\"int32\")\n",
    "        self.action_space = self.env.action_space\n",
    "        \n",
    "    def oneHot(self,s):\n",
    "        x = np.zeros(self.size*self.size).astype(\"int32\")\n",
    "        x[s] = 1\n",
    "        state_ = np.array([ x.reshape(self.size,self.size),\n",
    "                         np.array(self.env.desc == b\"F\").astype(\"int32\"),\n",
    "                         np.array(self.env.desc == b\"G\").astype(\"int32\")\n",
    "                          ])\n",
    "        return state_.reshape(3*self.size*self.size,)\n",
    "\n",
    "    def reset(self):\n",
    "        return self.oneHot(self.env.reset())\n",
    "    \n",
    "    def step(self, action):\n",
    "        obs, r, done, info = self.env.step(action)\n",
    "        \n",
    "        if done:\n",
    "            reward = 2 if r > 0 else -1\n",
    "        elif obs == self.old:\n",
    "            reward = -1\n",
    "        else:\n",
    "            reward = 0\n",
    "        self.old = obs\n",
    "        return self.oneHot(obs), reward, done, info\n",
    "\n",
    "from ray.tune.registry import register_env\n",
    "\n",
    "def env_creator(env_config): \n",
    "    size = env_config['size']\n",
    "    numHoles = env_config['numHoles']\n",
    "    p = 1-numHoles/(size**2)\n",
    "    desc = generate_random_map(size=size, p=p)\n",
    "    return WrappedFrozenLake(gym.make('FrozenLake-v1', desc = desc, is_slippery=False))  # return an env instance\n",
    "\n",
    "register_env(\"myenv\", env_creator)"
   ]
  },
  {
   "cell_type": "code",
   "execution_count": 3,
   "id": "f13337bb-777c-4c97-a40a-bc2a643d2827",
   "metadata": {},
   "outputs": [
    {
     "name": "stdout",
     "output_type": "stream",
     "text": [
      "  (Left)\n",
      "SFFFFF\n",
      "\u001b[41mH\u001b[0mFFHHF\n",
      "FFHHFH\n",
      "FFFHHF\n",
      "HFFFFF\n",
      "FFFHFG\n"
     ]
    }
   ],
   "source": [
    "env = env_creator(env_config = {'size':6, 'numHoles': 10})\n",
    "env.reset()\n",
    "done = False\n",
    "\n",
    "while not done:\n",
    "    # plt.cla()\n",
    "    display.clear_output(wait=True)\n",
    "\n",
    "    obs, reward, done, info = env.step(env.action_space.sample())\n",
    "    env.render()\n",
    "    time.sleep(0.1)\n",
    "    # display.clear_output(wait=True)\n",
    "    # display.display(plt.gcf())\n",
    "    # plt.gcf()"
   ]
  },
  {
   "cell_type": "code",
   "execution_count": 5,
   "id": "d875ff98-1145-45ce-b343-cd36683bc0c7",
   "metadata": {},
   "outputs": [
    {
     "name": "stderr",
     "output_type": "stream",
     "text": [
      "2022-07-13 13:05:08,729\tWARNING ppo.py:386 -- `train_batch_size` (4000) cannot be achieved with your other settings (num_workers=12 num_envs_per_worker=1 rollout_fragment_length=200)! Auto-adjusting `rollout_fragment_length` to 333.\n"
     ]
    }
   ],
   "source": [
    "trainer = PPOTrainer(\n",
    "    config = {\n",
    "        \"env\":\"myenv\",  \n",
    "        \"env_config\":{'size':6, 'numHoles': 10},\n",
    "        \"num_workers\": 12,\n",
    "          \"model\": {\n",
    "            \"fcnet_hiddens\": [512, 1024, 256],\n",
    "            \"fcnet_activation\": \"relu\",\n",
    "          },\n",
    "        \"num_workers\": 12,\n",
    "    })"
   ]
  },
  {
   "cell_type": "code",
   "execution_count": 18,
   "id": "6d8fae5e-4b53-4692-aa6a-7c7c2e23f912",
   "metadata": {},
   "outputs": [
    {
     "name": "stderr",
     "output_type": "stream",
     "text": [
      "2022-07-13 13:15:39,546\tWARNING ppo.py:386 -- `train_batch_size` (1000) cannot be achieved with your other settings (num_workers=12 num_envs_per_worker=10 rollout_fragment_length=200)! Auto-adjusting `rollout_fragment_length` to 8.\n"
     ]
    }
   ],
   "source": [
    "trainer = PPOTrainer(\n",
    "    config={\n",
    "        \"env\": \"myenv\",\n",
    "      #  \"framework\": \"torch\",\n",
    "        \"env_config\": {'size':6, 'numHoles': 10},\n",
    "        \"num_workers\": 12,\n",
    "        \n",
    "            \"model\": {\n",
    "            \"fcnet_hiddens\": [256, 800, 256],\n",
    "            \"fcnet_activation\": \"relu\",\n",
    "        },\n",
    "    'num_envs_per_worker': 10,\n",
    "    'gamma': 0.90,\n",
    "    'lr': 0.001,\n",
    "    'train_batch_size': 1000,\n",
    "    }\n",
    ")"
   ]
  },
  {
   "cell_type": "code",
   "execution_count": 19,
   "id": "8fceeafc-f55a-4d33-9459-dc92a3b476bb",
   "metadata": {},
   "outputs": [
    {
     "name": "stdout",
     "output_type": "stream",
     "text": [
      "Model: \"model\"\n",
      "__________________________________________________________________________________________________\n",
      " Layer (type)                   Output Shape         Param #     Connected to                     \n",
      "==================================================================================================\n",
      " observations (InputLayer)      [(None, 108)]        0           []                               \n",
      "                                                                                                  \n",
      " fc_1 (Dense)                   (None, 256)          27904       ['observations[0][0]']           \n",
      "                                                                                                  \n",
      " fc_value_1 (Dense)             (None, 256)          27904       ['observations[0][0]']           \n",
      "                                                                                                  \n",
      " fc_2 (Dense)                   (None, 800)          205600      ['fc_1[0][0]']                   \n",
      "                                                                                                  \n",
      " fc_value_2 (Dense)             (None, 800)          205600      ['fc_value_1[0][0]']             \n",
      "                                                                                                  \n",
      " fc_3 (Dense)                   (None, 256)          205056      ['fc_2[0][0]']                   \n",
      "                                                                                                  \n",
      " fc_value_3 (Dense)             (None, 256)          205056      ['fc_value_2[0][0]']             \n",
      "                                                                                                  \n",
      " fc_out (Dense)                 (None, 4)            1028        ['fc_3[0][0]']                   \n",
      "                                                                                                  \n",
      " value_out (Dense)              (None, 1)            257         ['fc_value_3[0][0]']             \n",
      "                                                                                                  \n",
      "==================================================================================================\n",
      "Total params: 878,405\n",
      "Trainable params: 878,405\n",
      "Non-trainable params: 0\n",
      "__________________________________________________________________________________________________\n"
     ]
    }
   ],
   "source": [
    "policy = trainer.get_policy()\n",
    "policy.model.base_model.summary()"
   ]
  },
  {
   "cell_type": "code",
   "execution_count": null,
   "id": "21addd5d-a56e-4755-aecf-4bc2301558f9",
   "metadata": {},
   "outputs": [],
   "source": [
    "keepTraining = True\n",
    "i = 0\n",
    "while keepTraining:  \n",
    "    i += 1 \n",
    "    results = trainer.train()\n",
    "    if results['episode_reward_mean'] > 1.9:\n",
    "        keepTraining = False\n",
    "    print(f\"Iter: {i}; avg. reward={results['episode_reward_mean']}\")"
   ]
  },
  {
   "cell_type": "code",
   "execution_count": 21,
   "id": "659419a5-2d52-49cd-a63e-2591d7e299da",
   "metadata": {},
   "outputs": [
    {
     "data": {
      "text/plain": [
       "'model/checkpoint_000148/checkpoint-148'"
      ]
     },
     "execution_count": 21,
     "metadata": {},
     "output_type": "execute_result"
    }
   ],
   "source": [
    "trainer.save(\"model\")"
   ]
  },
  {
   "cell_type": "code",
   "execution_count": 147,
   "id": "3367f5bc-8895-4312-bebd-71c0de6387ab",
   "metadata": {},
   "outputs": [],
   "source": [
    "# trainer.load_checkpoint('model/checkpoint_000039/checkpoint-39')"
   ]
  },
  {
   "cell_type": "code",
   "execution_count": 22,
   "id": "91461ee2-8111-491e-97d1-9c7469a6e973",
   "metadata": {},
   "outputs": [
    {
     "name": "stdout",
     "output_type": "stream",
     "text": [
      "-0.64\n"
     ]
    }
   ],
   "source": [
    "won = 0\n",
    "lost = 0\n",
    "rewardList = []\n",
    "\n",
    "for i in range(100):\n",
    "    env = env_creator({'size':6, 'numHoles': 10}) #gym.make(\"myenv-v1\")#\"FrozenLake-v1\")\n",
    "    #, #FrozenLakeWrapped({})\n",
    "    # Get the initial observation (should be: [0.0] for the starting position).\n",
    "    obs = env.reset()\n",
    "    done = False\n",
    "    total_reward = 0.0\n",
    "    # Play one episode.\n",
    "    while not done:\n",
    "        # plt.cla()\n",
    "#        display.clear_output(wait=True)\n",
    "        # print(\"num won: \", won, \" played: \", i, \"total reward: \", total_reward)\n",
    "        # env.render()\n",
    "\n",
    "        action = trainer.compute_single_action(obs,explore=False)\n",
    "        obs, reward, done, info = env.step(action)\n",
    "        #print(obs, reward, done)\n",
    "        total_reward += reward\n",
    "        # time.sleep(0.1)\n",
    "        \n",
    "        # display.display(plt.gcf())\n",
    "        # plt.gcf()\n",
    "        if done: \n",
    "            rewardList.append(total_reward)\n",
    "    if reward > 0 :\n",
    "        won +=1 \n",
    "      \n",
    "    \n",
    "#print(rewardList, np.mean(rewardList))\n",
    "print( np.mean(rewardList))\n"
   ]
  },
  {
   "cell_type": "code",
   "execution_count": 23,
   "id": "ec0a2fed-4274-44a9-b75a-a382ca577ec1",
   "metadata": {},
   "outputs": [
    {
     "data": {
      "text/plain": [
       "12"
      ]
     },
     "execution_count": 23,
     "metadata": {},
     "output_type": "execute_result"
    }
   ],
   "source": [
    "won"
   ]
  },
  {
   "cell_type": "code",
   "execution_count": 11,
   "id": "6a19b681-2ca3-4648-a9c8-26f59f45404f",
   "metadata": {},
   "outputs": [
    {
     "data": {
      "text/plain": [
       "2"
      ]
     },
     "execution_count": 11,
     "metadata": {},
     "output_type": "execute_result"
    }
   ],
   "source": [
    "trainer.compute_single_action(obs)"
   ]
  },
  {
   "cell_type": "code",
   "execution_count": null,
   "id": "81b51076-950e-4d67-99b6-e8ce1751a480",
   "metadata": {},
   "outputs": [],
   "source": [
    "env = env_creator({'size':6, 'numHoles': 10})# gym.make(\"FrozenLake-v1\")\n",
    "obs = env.reset()\n",
    "done = False\n",
    "total_reward = 0.0\n",
    "# Play one episode.\n",
    "while not done:\n",
    "    display.clear_output(wait=True)\n",
    "    obs, reward, done, _ = env.step(trainer.compute_single_action(obs,explore=False))\n",
    "    env.render()\n",
    "    time.sleep(0.1)\n",
    "    if done: \n",
    "        rewardList.append(total_reward)\n",
    "if reward > 0 :\n",
    "    won +=1 \n"
   ]
  },
  {
   "cell_type": "code",
   "execution_count": 29,
   "id": "56383a75-ac4d-492e-ae2e-b3838bc1f580",
   "metadata": {},
   "outputs": [],
   "source": [
    "trainer.stop()\n",
    "ray.shutdown()"
   ]
  },
  {
   "cell_type": "code",
   "execution_count": null,
   "id": "0792f68b-6ded-4b8c-b2a4-a6327aefeb51",
   "metadata": {},
   "outputs": [],
   "source": []
  }
 ],
 "metadata": {
  "kernelspec": {
   "display_name": "Python 3 (ipykernel)",
   "language": "python",
   "name": "python3"
  },
  "language_info": {
   "codemirror_mode": {
    "name": "ipython",
    "version": 3
   },
   "file_extension": ".py",
   "mimetype": "text/x-python",
   "name": "python",
   "nbconvert_exporter": "python",
   "pygments_lexer": "ipython3",
   "version": "3.10.4"
  }
 },
 "nbformat": 4,
 "nbformat_minor": 5
}
