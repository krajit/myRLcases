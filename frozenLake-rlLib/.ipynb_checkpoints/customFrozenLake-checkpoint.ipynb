{
 "cells": [
  {
   "cell_type": "markdown",
   "id": "d0db6768-1e36-409f-8b01-f19d557640f4",
   "metadata": {},
   "source": [
    "# Frozen Lake"
   ]
  },
  {
   "cell_type": "code",
   "execution_count": 11,
   "id": "aec8c5f1-f7f1-4043-8d56-9ba302e3c120",
   "metadata": {},
   "outputs": [],
   "source": [
    "%reset -f\n",
    "import numpy as np\n",
    "import torch\n",
    "from IPython.display import clear_output\n",
    "from IPython import display\n",
    "import random\n",
    "import matplotlib.pylab as plt\n",
    "import copy\n",
    "import gym\n",
    "\n",
    "import torch.nn as nn\n",
    "import torch.nn.functional as F\n",
    "from typing import List, Optional\n",
    "\n",
    "#from gym.envs.toy_text.frozen_lake import generate_random_map"
   ]
  },
  {
   "cell_type": "code",
   "execution_count": 12,
   "id": "4e77f980-b856-4fe8-8bbc-34ce95354605",
   "metadata": {},
   "outputs": [],
   "source": [
    "# redifne this map to put starting and ending point in random location\n",
    "# TODO: Can we do this with decorators?\n",
    "def generate_random_map(size: int = 8, p: float = 0.8) -> List[str]:\n",
    "    \"\"\"Generates a random valid map (one that has a path from start to goal)\n",
    "    Args:\n",
    "        size: size of each side of the grid\n",
    "        p: probability that a tile is frozen\n",
    "    Returns:\n",
    "        A random valid map\n",
    "    \"\"\"\n",
    "    valid = False\n",
    "\n",
    "    # DFS to check that it's a valid path.\n",
    "    def is_valid(res,sx,sy):\n",
    "        frontier, discovered = [], set()\n",
    "        frontier.append((sx, sy))\n",
    "        while frontier:\n",
    "            r, c = frontier.pop()\n",
    "            if not (r, c) in discovered:\n",
    "                discovered.add((r, c))\n",
    "                directions = [(1, 0), (0, 1), (-1, 0), (0, -1)]\n",
    "                for x, y in directions:\n",
    "                    r_new = r + x\n",
    "                    c_new = c + y\n",
    "                    if r_new < 0 or r_new >= size or c_new < 0 or c_new >= size:\n",
    "                        continue\n",
    "                    if res[r_new][c_new] == \"G\":\n",
    "                        return True\n",
    "                    if res[r_new][c_new] != \"H\":\n",
    "                        frontier.append((r_new, c_new))\n",
    "        return False\n",
    "\n",
    "    while not valid:\n",
    "        p = min(1, p)\n",
    "        res = np.random.choice([\"F\", \"H\"], (size, size), p=[p, 1 - p])\n",
    "        sx = np.random.randint(size); sy = np.random.randint(size)\n",
    "        res[sx][sy] = \"S\"\n",
    "        gx = np.random.randint(size); gy = np.random.randint(size)\n",
    "        while res[gx][gy] == \"S\": # we don't want to overwrite the S\n",
    "            gx = np.random.randint(size); gy = np.random.randint(size)\n",
    "        res[gx][gy] = \"G\"   \n",
    "        valid = is_valid(res,sx,sy)\n",
    "    return [\"\".join(x) for x in res]"
   ]
  },
  {
   "cell_type": "code",
   "execution_count": 15,
   "id": "809d5fd7-d9b8-4ffd-979c-ee6ae1b8f2e4",
   "metadata": {},
   "outputs": [],
   "source": [
    "gSize = 6 # grid size\n",
    "nH = 2.    # desired number of hole: this is probabilistic\n",
    "pH = 1 - nH/(gSize*gSize) # probability of  grid being a hole\n",
    "\n",
    "desc = generate_random_map(size= gSize, p= pH)"
   ]
  },
  {
   "cell_type": "code",
   "execution_count": null,
   "id": "3fd0af65-e509-4f98-8c15-ed13c0717734",
   "metadata": {},
   "outputs": [
    {
     "name": "stdout",
     "output_type": "stream",
     "text": [
      "\n",
      "FFHFFF\n",
      "FFFFFF\n",
      "FFFFFH\n",
      "FFFFGF\n",
      "\u001b[41mS\u001b[0mFFFFF\n",
      "FFFFHF\n"
     ]
    }
   ],
   "source": [
    "env = gym.make('FrozenLake-v1', desc=desc, is_slippery=False)\n",
    "env.reset()\n",
    "plt.imshow(env.render(mode=\"rgb_array\"))\n",
    "env.close()"
   ]
  },
  {
   "cell_type": "code",
   "execution_count": 26,
   "id": "22efb9bc-1ec6-491b-87ce-550618f47365",
   "metadata": {},
   "outputs": [],
   "source": [
    "def oneHot(s,h=0):\n",
    "    x = np.zeros(gSize*gSize)\n",
    "    x[s] = 1\n",
    "    state_ = np.array([ x.reshape(gSize,gSize),\n",
    "                     np.array(env.desc == b\"F\").astype(\"float64\"),\n",
    "                     np.array(env.desc == b\"G\").astype(\"float64\")\n",
    "                      ])\n",
    "    return state_ + h*np.random.rand(state_.size).reshape(state_.shape)"
   ]
  }
 ],
 "metadata": {
  "kernelspec": {
   "display_name": "Python 3 (ipykernel)",
   "language": "python",
   "name": "python3"
  },
  "language_info": {
   "codemirror_mode": {
    "name": "ipython",
    "version": 3
   },
   "file_extension": ".py",
   "mimetype": "text/x-python",
   "name": "python",
   "nbconvert_exporter": "python",
   "pygments_lexer": "ipython3",
   "version": "3.10.4"
  }
 },
 "nbformat": 4,
 "nbformat_minor": 5
}
