{
 "cells": [
  {
   "cell_type": "markdown",
   "id": "d0db6768-1e36-409f-8b01-f19d557640f4",
   "metadata": {},
   "source": [
    "# Frozen Lake"
   ]
  },
  {
   "cell_type": "code",
   "execution_count": 1,
   "id": "aec8c5f1-f7f1-4043-8d56-9ba302e3c120",
   "metadata": {},
   "outputs": [],
   "source": [
    "%reset -f\n",
    "import numpy as np\n",
    "import torch\n",
    "from IPython.display import clear_output\n",
    "from IPython import display\n",
    "import random\n",
    "import matplotlib.pylab as plt\n",
    "import copy\n",
    "import gym\n",
    "\n",
    "import torch.nn as nn\n",
    "import torch.nn.functional as F\n",
    "from typing import List, Optional\n",
    "\n",
    "#from gym.envs.toy_text.frozen_lake import generate_random_map"
   ]
  },
  {
   "cell_type": "code",
   "execution_count": 2,
   "id": "4e77f980-b856-4fe8-8bbc-34ce95354605",
   "metadata": {},
   "outputs": [],
   "source": [
    "# redifne this map to put starting and ending point in random location\n",
    "# TODO: Can we do this with decorators?\n",
    "def generate_random_map(size: int = 8, p: float = 0.8) -> List[str]:\n",
    "    \"\"\"Generates a random valid map (one that has a path from start to goal)\n",
    "    Args:\n",
    "        size: size of each side of the grid\n",
    "        p: probability that a tile is frozen\n",
    "    Returns:\n",
    "        A random valid map\n",
    "    \"\"\"\n",
    "    valid = False\n",
    "\n",
    "    # DFS to check that it's a valid path.\n",
    "    def is_valid(res,sx,sy):\n",
    "        frontier, discovered = [], set()\n",
    "        frontier.append((sx, sy))\n",
    "        while frontier:\n",
    "            r, c = frontier.pop()\n",
    "            if not (r, c) in discovered:\n",
    "                discovered.add((r, c))\n",
    "                directions = [(1, 0), (0, 1), (-1, 0), (0, -1)]\n",
    "                for x, y in directions:\n",
    "                    r_new = r + x\n",
    "                    c_new = c + y\n",
    "                    if r_new < 0 or r_new >= size or c_new < 0 or c_new >= size:\n",
    "                        continue\n",
    "                    if res[r_new][c_new] == \"G\":\n",
    "                        return True\n",
    "                    if res[r_new][c_new] != \"H\":\n",
    "                        frontier.append((r_new, c_new))\n",
    "        return False\n",
    "\n",
    "    while not valid:\n",
    "        p = min(1, p)\n",
    "        res = np.random.choice([\"F\", \"H\"], (size, size), p=[p, 1 - p])\n",
    "        sx = np.random.randint(size); sy = np.random.randint(size)\n",
    "        res[sx][sy] = \"S\"\n",
    "        gx = np.random.randint(size); gy = np.random.randint(size)\n",
    "        while res[gx][gy] == \"S\": # we don't want to overwrite the S\n",
    "            gx = np.random.randint(size); gy = np.random.randint(size)\n",
    "        res[gx][gy] = \"G\"   \n",
    "        valid = is_valid(res,sx,sy)\n",
    "    return [\"\".join(x) for x in res]"
   ]
  },
  {
   "cell_type": "code",
   "execution_count": 3,
   "id": "809d5fd7-d9b8-4ffd-979c-ee6ae1b8f2e4",
   "metadata": {},
   "outputs": [],
   "source": [
    "gSize = 6 # grid size\n",
    "nH = 2.    # desired number of hole: this is probabilistic\n",
    "pH = 1 - nH/(gSize*gSize) # probability of  grid being a hole\n",
    "\n",
    "desc = generate_random_map(size= gSize, p= pH)"
   ]
  },
  {
   "cell_type": "code",
   "execution_count": 4,
   "id": "3fd0af65-e509-4f98-8c15-ed13c0717734",
   "metadata": {},
   "outputs": [
    {
     "name": "stdout",
     "output_type": "stream",
     "text": [
      "\n",
      "FFFHFF\n",
      "FFFFFF\n",
      "FFFFFF\n",
      "FHFFFF\n",
      "FF\u001b[41mS\u001b[0mFGF\n",
      "FFFFFF\n"
     ]
    }
   ],
   "source": [
    "env = gym.make('FrozenLake-v1', desc=desc, is_slippery=False)\n",
    "env.reset()\n",
    "#plt.imshow(env.render(mode=\"rgb_array\"))\n",
    "env.render()\n",
    "env.close()"
   ]
  },
  {
   "cell_type": "code",
   "execution_count": 43,
   "id": "f92f4f5f-4cf5-4954-bfe1-4e4162bc0d87",
   "metadata": {},
   "outputs": [],
   "source": [
    "class FrozenLakeWrapper(gym.Wrapper):\n",
    "    def __init__(self, env):\n",
    "        super().__init__(env)\n",
    "        self.observation_space = gym.spaces.Box(0,1,shape=(3,gSize,gSize), dtype=np.int32)\n",
    "        # self.reward_dist_weight = reward_dist_weight\n",
    "        # self.reward_ctrl_weight = reward_ctrl_weight\n",
    "    def oneHot(self,s):\n",
    "        x = np.zeros(gSize*gSize)\n",
    "        x[s] = 1\n",
    "        state_ = np.array([ x.reshape(gSize,gSize),\n",
    "                         np.array(self.env.desc == b\"F\").astype(\"int32\"),\n",
    "                         np.array(self.env.desc == b\"G\").astype(\"int32\")\n",
    "                          ])\n",
    "        return state_ \n",
    "    \n",
    "    def reset(self):\n",
    "        o = self.env.reset()\n",
    "        return self.oneHot(o)\n",
    "\n",
    "    def step(self, action):\n",
    "        o, r, done, info = self.env.step(action)\n",
    "        return oneHot(o), reward, done, info"
   ]
  },
  {
   "cell_type": "code",
   "execution_count": 44,
   "id": "e8fa4af7-f8ce-4484-b335-ca630a1a79e7",
   "metadata": {},
   "outputs": [],
   "source": [
    "env2 = FrozenLakeWrapper(env)"
   ]
  },
  {
   "cell_type": "code",
   "execution_count": 45,
   "id": "babf4a6c-c469-4abd-8ce7-67d38228f80d",
   "metadata": {},
   "outputs": [
    {
     "name": "stdout",
     "output_type": "stream",
     "text": [
      "\n",
      "FFFHFF\n",
      "FFFFFF\n",
      "FFFFFF\n",
      "FHFFFF\n",
      "FF\u001b[41mS\u001b[0mFGF\n",
      "FFFFFF\n"
     ]
    }
   ],
   "source": [
    "env2.render()"
   ]
  },
  {
   "cell_type": "code",
   "execution_count": 54,
   "id": "55214717-ef37-483d-be05-d56a2a4e6c83",
   "metadata": {},
   "outputs": [],
   "source": [
    "class FrozenLakeWrapped(gym.Env):\n",
    "    def __init__(self):\n",
    "        self.size = 6 # grid size\n",
    "        nH = 2.    # desired number of hole: this is probabilistic\n",
    "        pH = 1 - nH/(gSize*gSize) # probability of  grid being a hole\n",
    "        desc = generate_random_map(size= gSize, p= pH)\n",
    "        self.env = gym.make('FrozenLake-v1', desc=desc, is_slippery=False)\n",
    "        self.observation_space = gym.spaces.Box(0,1,shape=(3,gSize,gSize), dtype=np.int32)\n",
    "        self.action_space = self.env.action_space\n",
    "    def oneHot(self,s):\n",
    "        x = np.zeros(self.size*self.size)\n",
    "        x[s] = 1\n",
    "        state_ = np.array([ x.reshape(self.size,self.size),\n",
    "                         np.array(self.env.desc == b\"F\").astype(\"int32\"),\n",
    "                         np.array(self.env.desc == b\"G\").astype(\"int32\")\n",
    "                          ])\n",
    "        return state_ \n",
    "    \n",
    "    def reset(self):\n",
    "        o = self.env.reset()\n",
    "        return self.oneHot(o)\n",
    "\n",
    "    def step(self, action):\n",
    "        o, r, done, info = self.env.step(action)\n",
    "        return oneHot(o), reward, done, info\n",
    "    \n",
    "    def render(self):\n",
    "        self.env.render()"
   ]
  },
  {
   "cell_type": "code",
   "execution_count": 62,
   "id": "52fbabb9-1b26-467d-a62a-aba34f5f3810",
   "metadata": {},
   "outputs": [
    {
     "data": {
      "text/plain": [
       "<matplotlib.image.AxesImage at 0x7fab39e588b0>"
      ]
     },
     "execution_count": 62,
     "metadata": {},
     "output_type": "execute_result"
    },
    {
     "data": {
      "image/png": "[encoded data removed]",
      "text/plain": [
       "<Figure size 432x288 with 1 Axes>"
      ]
     },
     "metadata": {
      "needs_background": "light"
     },
     "output_type": "display_data"
    }
   ],
   "source": [
    "env3 = FrozenLakeWrapped()\n",
    "plt.imshow(env3.reset()[0])"
   ]
  },
  {
   "cell_type": "code",
   "execution_count": null,
   "id": "aeb59093-5eea-4cf4-9473-10025478afab",
   "metadata": {},
   "outputs": [],
   "source": []
  }
 ],
 "metadata": {
  "kernelspec": {
   "display_name": "Python 3 (ipykernel)",
   "language": "python",
   "name": "python3"
  },
  "language_info": {
   "codemirror_mode": {
    "name": "ipython",
    "version": 3
   },
   "file_extension": ".py",
   "mimetype": "text/x-python",
   "name": "python",
   "nbconvert_exporter": "python",
   "pygments_lexer": "ipython3",
   "version": "3.10.4"
  }
 },
 "nbformat": 4,
 "nbformat_minor": 5
}
