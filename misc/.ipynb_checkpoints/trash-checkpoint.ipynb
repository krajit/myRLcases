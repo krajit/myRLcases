{
 "cells": [
  {
   "cell_type": "code",
   "execution_count": 1,
   "id": "35f349cd-173b-4891-81cd-649ab62cd6c8",
   "metadata": {},
   "outputs": [
    {
<<<<<<< HEAD
     "name": "stdout",
     "output_type": "stream",
     "text": [
      "pygame 2.1.2 (SDL 2.0.16, Python 3.9.12)\n",
      "Hello from the pygame community. https://www.pygame.org/contribute.html\n"
=======
     "data": {
      "text/html": [
       "== Status ==<br>Current time: 2022-08-16 14:06:52 (running for 00:00:30.37)<br>Memory usage on this node: 5.6/13.6 GiB<br>Using FIFO scheduling algorithm.<br>Resources requested: 0/8 CPUs, 0/0 GPUs, 0.0/5.52 GiB heap, 0.0/2.76 GiB objects<br>Result logdir: /home/ajit/Desktop/myRLcases/misc/checkPoints/MBMPO<br>Number of trials: 1/1 (1 PENDING)<br><br>"
      ],
      "text/plain": [
       "<IPython.core.display.HTML object>"
      ]
     },
     "metadata": {},
     "output_type": "display_data"
    },
    {
     "name": "stderr",
     "output_type": "stream",
     "text": [
      "/home/ajit/anaconda3/envs/rllib/lib/python3.9/site-packages/ray/util/placement_group.py:78: DeprecationWarning: placement_group parameter is deprecated. Use scheduling_strategy=PlacementGroupSchedulingStrategy(...) instead, see the usage at https://docs.ray.io/en/master/ray-core/package-ref.html#ray-remote.\n",
      "  return bundle_reservation_check.options(\n"
>>>>>>> 3c79a621d23be0bf9f51b17076d0c87a7020f486
     ]
    }
   ],
   "source": [
<<<<<<< HEAD
    "import gym\n",
    "import ray\n",
    "from ray.rllib.agents.ppo import PPOTrainer\n",
    "from ray.rllib.agents.dqn import DQNTrainer\n",
    "\n",
    "import pygame\n",
    "import numpy as np\n",
    "\n",
    "import torch\n",
    "from IPython.display import clear_output\n",
    "from IPython import display\n",
    "import random\n",
    "import matplotlib.pylab as plt\n",
    "\n",
    "#ray.init(num_cpus=4, num_gpus=0)\n"
=======
    "\n",
    "from ray.rllib.examples.env.mbmpo_env import CartPoleWrapper\n",
    "from ray import tune\n",
    "\n",
    "config = {\n",
    "        \"env\":CartPoleWrapper,  \n",
    "       \"framework\": \"torch\",\n",
    "        #horizon: 200,\n",
    "        \"num_envs_per_worker\": 20,\n",
    "        \"inner_adaptation_steps\": 1,\n",
    "        \"maml_optimizer_steps\": 8,\n",
    "        \"gamma\": 0.99,\n",
    "        \"lambda\": 1.0,\n",
    "        \"lr\": 0.001,\n",
    "        \"clip_param\": 0.5,\n",
    "        \"kl_target\": 0.003,\n",
    "        \"kl_coeff\": 0.0000000001,\n",
    "        \"num_workers\": 8,\n",
    "        \"num_gpus\": 0,\n",
    "        \"inner_lr\": 0.001,\n",
    "        \"clip_actions\": False,\n",
    "        \"num_maml_steps\": 15,\n",
    "        \"model\": {\n",
    "            \"fcnet_hiddens\": [32, 32],\n",
    "            \"free_log_std\": True,\n",
    "        }        \n",
    "}\n",
    "\n",
    "stop = {\n",
    "   \"episode_reward_mean\": 190,\n",
    "   \"training_iteration\": 20\n",
    "}\n",
    "\n",
    "analysis =  tune.run(\n",
    "    \"MBMPO\",\n",
    "    config=config,\n",
    "    stop=stop,\n",
    "    checkpoint_at_end=True,  \n",
    "    checkpoint_freq=5,  \n",
    "    local_dir=\"checkPoints/\",\n",
    "    verbose=1,\n",
    ")"
>>>>>>> 3c79a621d23be0bf9f51b17076d0c87a7020f486
   ]
  },
  {
   "cell_type": "code",
<<<<<<< HEAD
   "execution_count": 2,
=======
   "execution_count": null,
>>>>>>> 3c79a621d23be0bf9f51b17076d0c87a7020f486
   "id": "9f44be24-3145-4df8-a0f6-80caf30c55cf",
   "metadata": {},
   "outputs": [],
   "source": [
    "config = {\n",
<<<<<<< HEAD
    "#    \"framework\":'tf2',\n",
    "#        \"framework\": \"torch\",\n",
    "        \"env\":\"CartPole-v1\",  \n",
    "#        \"env_config\":{'size':6, 'numHoles': 10},\n",
    "        \"num_workers\": 10,\n",
=======
    "#        \"framework\": \"torch\",\n",
    "        \"env\":\"FrozenLake-v1\",  \n",
    "#        \"env_config\":{'size':6, 'numHoles': 10},\n",
    "        \"num_workers\": 4,\n",
>>>>>>> 3c79a621d23be0bf9f51b17076d0c87a7020f486
    "          # \"model\": {\n",
    "          #    \"custom_model\": MyTorchModel,  # for torch users: \"custom_model\": MyTorchModel\n",
    "          #    \"custom_model_config\": {},\n",
    "          # },\n",
<<<<<<< HEAD
    "        # 'num_envs_per_worker': 20,\n",
    "        \"create_env_on_driver\": True,\n",
    "#        \"train_batch_size\": 400,\n",
    "         \"n_step\": 2, # multistep\n",
    "        # \"num_atoms\": 4,  # for distributional DQN\n",
    "        # \"v_min\": 0.0, \n",
    "        # \"v_max\": 1.0    \n",
    " #    \"num_gpus\": 1,\n",
    "}\n"
=======
    "#        'num_envs_per_worker': 20,\n",
    "        \"create_env_on_driver\": True,\n",
    "    \n",
    "}\n",
    "\n",
    "# trainer = DQNTrainer(\n",
    "#     env=, \n",
    "#     config={\n",
    "#         \"train_batch_size\": 400,\n",
    "#         \"n_step\": 2, # multistep\n",
    "#         \"num_atoms\": 4,  # for distributional DQN\n",
    "#         \"v_min\": 0.0, \n",
    "#         \"v_max\": 1.0\n",
    "#     }\n",
    "# )"
>>>>>>> 3c79a621d23be0bf9f51b17076d0c87a7020f486
   ]
  },
  {
   "cell_type": "code",
<<<<<<< HEAD
   "execution_count": 3,
=======
   "execution_count": null,
>>>>>>> 3c79a621d23be0bf9f51b17076d0c87a7020f486
   "id": "2296faf7-a4ef-4dfd-bf92-ec9636cc09c9",
   "metadata": {},
   "outputs": [
    {
     "data": {
      "text/html": [
<<<<<<< HEAD
       "== Status ==<br>Current time: 2022-07-26 14:17:12 (running for 00:00:53.16)<br>Memory usage on this node: 9.6/125.5 GiB<br>Using FIFO scheduling algorithm.<br>Resources requested: 0/16 CPUs, 0/1 GPUs, 0.0/75.8 GiB heap, 0.0/36.48 GiB objects (0.0/1.0 accelerator_type:RTX)<br>Result logdir: /home/ajit/Desktop/myRLcases/misc/checkPoints/DQN<br>Number of trials: 1/1 (1 TERMINATED)<br><br>"
=======
       "== Status ==<br>Current time: 2022-07-25 14:19:45 (running for 00:00:20.94)<br>Memory usage on this node: 6.4/125.5 GiB<br>Using FIFO scheduling algorithm.<br>Resources requested: 0/16 CPUs, 0/1 GPUs, 0.0/76.83 GiB heap, 0.0/36.92 GiB objects (0.0/1.0 accelerator_type:RTX)<br>Result logdir: /home/ajit/Desktop/myRLcases/misc/checkPoints/DQN<br>Number of trials: 1/1 (1 TERMINATED)<br><br>"
>>>>>>> 3c79a621d23be0bf9f51b17076d0c87a7020f486
      ],
      "text/plain": [
       "<IPython.core.display.HTML object>"
      ]
     },
     "metadata": {},
     "output_type": "display_data"
    },
    {
     "name": "stderr",
     "output_type": "stream",
     "text": [
<<<<<<< HEAD
      "2022-07-26 14:17:12,220\tINFO tune.py:747 -- Total run time: 53.47 seconds (53.13 seconds for the tuning loop).\n"
=======
      "2022-07-25 14:19:46,262\tINFO tune.py:747 -- Total run time: 21.56 seconds (20.91 seconds for the tuning loop).\n"
>>>>>>> 3c79a621d23be0bf9f51b17076d0c87a7020f486
     ]
    }
   ],
   "source": [
    "from ray import tune\n",
    "tune_config = config.copy()\n",
<<<<<<< HEAD
    "#tune_config[\"lr\"] = tune.grid_search([0.0001])  # <- 0.5? again: ouch!\n",
    "\n",
    "stop = {\n",
    "    \"training_iteration\": 100,\n",
    "    \"episode_reward_mean\": 195,\n",
=======
    "tune_config[\"lr\"] = tune.grid_search([0.0001])  # <- 0.5? again: ouch!\n",
    "\n",
    "stop = {\n",
    "    \"training_iteration\": 5,\n",
    "    \"episode_reward_mean\": 0.9,\n",
>>>>>>> 3c79a621d23be0bf9f51b17076d0c87a7020f486
    "}\n",
    "\n",
    "analysis =  tune.run(\n",
    "    \"DQN\",\n",
    "    config=tune_config,\n",
    "    stop=stop,\n",
    "    checkpoint_at_end=True,  \n",
<<<<<<< HEAD
    "    checkpoint_freq=5,  \n",
=======
    "    checkpoint_freq=1,  \n",
>>>>>>> 3c79a621d23be0bf9f51b17076d0c87a7020f486
    "    local_dir=\"checkPoints/\",\n",
    "    verbose=1,\n",
    "    #resume=True,\n",
    "   \n",
    ")"
   ]
  },
  {
   "cell_type": "code",
   "execution_count": null,
   "id": "1e8f23f4-6fe5-456b-86a2-88ca1361894e",
   "metadata": {},
<<<<<<< HEAD
   "outputs": [],
=======
   "outputs": [
    {
     "name": "stdout",
     "output_type": "stream",
     "text": [
      "<ray.tune.analysis.experiment_analysis.ExperimentAnalysis object at 0x7faba05613a0>\n",
      "Found best checkpoint for trial #2: /home/ajit/Desktop/myRLcases/misc/checkPoints/DQN/DQN_FrozenLake-v1_af392_00000_0_lr=0.0001_2022-07-25_14-19-25/checkpoint_000005/checkpoint-5\n"
     ]
    }
   ],
>>>>>>> 3c79a621d23be0bf9f51b17076d0c87a7020f486
   "source": [
    "# The previous tune.run (the one we did before the exercise) returned an Analysis object, from which we can access any checkpoint\n",
    "# (given we set checkpoint_freq or checkpoint_at_end to reasonable values) like so:\n",
    "print(analysis)\n",
    "# Get all trials (we only have one).\n",
    "trials = analysis.trials\n",
    "# Assuming, the first trial was the best, we'd like to extract this trial's best checkpoint \"\":\n",
    "best_checkpoint = analysis.get_best_checkpoint(trial=trials[0], metric=\"episode_reward_mean\", mode=\"max\")\n",
    "print(f\"Found best checkpoint for trial #2: {best_checkpoint}\")"
   ]
  },
  {
   "cell_type": "code",
   "execution_count": null,
   "id": "f82557e2-fd5c-408e-a865-d74616f5b781",
   "metadata": {},
   "outputs": [
    {
<<<<<<< HEAD
     "name": "stdout",
     "output_type": "stream",
     "text": [
      "\u001b[2m\u001b[1m\u001b[36m(scheduler +41s)\u001b[0m Tip: use `ray status` to view detailed cluster status. To disable these messages, set RAY_SCHEDULER_EVENTS=0.\n",
      "\u001b[2m\u001b[1m\u001b[33m(scheduler +41s)\u001b[0m Warning: The following resource request cannot be scheduled right now: {'CPU': 1.0}. This is likely due to all cluster resources being claimed by actors. Consider creating fewer actors or adding more nodes to this Ray cluster.\n"
=======
     "name": "stderr",
     "output_type": "stream",
     "text": [
      "2022-07-25 14:20:08,450\tINFO trainer.py:2332 -- Your framework setting is 'tf', meaning you are using static-graph mode. Set framework='tf2' to enable eager execution with tf2.x. You may also then want to set eager_tracing=True in order to reach similar execution speed as with static-graph mode.\n",
      "2022-07-25 14:20:08,455\tINFO simple_q.py:187 -- In multi-agent mode, policies will be optimized sequentially by the multi-GPU optimizer. Consider setting `simple_optimizer=True` if this doesn't work for you.\n",
      "2022-07-25 14:20:08,456\tINFO trainer.py:903 -- Current log_level is WARN. For more information, set 'log_level': 'INFO' / 'DEBUG' or use the -v and -vv flags.\n"
>>>>>>> 3c79a621d23be0bf9f51b17076d0c87a7020f486
     ]
    }
   ],
   "source": [
    "rllib_config = tune_config.copy()\n",
    "rllib_config[\"lr\"] = 0.0001\n",
    "#rllib_config[\"train_batch_size\"] = 4159\n",
    "rllib_config[\"explore\"] = False\n",
    "\n",
    "# Restore a RLlib Trainer from the checkpoint.\n",
    "new_trainer = DQNTrainer(config=rllib_config)\n",
<<<<<<< HEAD
    "best_checkpoint = \"/home/ajit/Desktop/myRLcases/misc/checkPoints/DQN/DQN_CartPole-v1_00fdc_00000_0_2022-07-26_13-51-52/checkpoint_000043/checkpoint-43\"\n",
=======
    "#"
   ]
  },
  {
   "cell_type": "code",
   "execution_count": null,
   "id": "eb62fefb-83ab-4cdf-b982-12c537a9da74",
   "metadata": {},
   "outputs": [
    {
     "name": "stdout",
     "output_type": "stream",
     "text": [
      "WARNING:tensorflow:From /home/ajit/anaconda3/envs/rllib-stable/lib/python3.9/site-packages/ray/rllib/utils/exploration/epsilon_greedy.py:241: Variable.load (from tensorflow.python.ops.variables) is deprecated and will be removed in a future version.\n",
      "Instructions for updating:\n",
      "Prefer Variable.assign which has equivalent behavior in 2.X.\n"
     ]
    },
    {
     "name": "stderr",
     "output_type": "stream",
     "text": [
      "2022-07-25 14:20:09,975\tINFO trainable.py:588 -- Restored on 10.13.62.8 from checkpoint: /home/ajit/Desktop/myRLcases/misc/checkPoints/DQN/DQN_FrozenLake-v1_af392_00000_0_lr=0.0001_2022-07-25_14-19-25/checkpoint_000005/checkpoint-5\n",
      "2022-07-25 14:20:09,977\tINFO trainable.py:597 -- Current state after restoring: {'_iteration': 5, '_timesteps_total': None, '_time_total': 15.44607949256897, '_episodes_total': 602}\n",
      "\u001b[2m\u001b[36m(RolloutWorker pid=9094)\u001b[0m WARNING:tensorflow:From /home/ajit/anaconda3/envs/rllib-stable/lib/python3.9/site-packages/ray/rllib/utils/exploration/epsilon_greedy.py:241: Variable.load (from tensorflow.python.ops.variables) is deprecated and will be removed in a future version.\n",
      "\u001b[2m\u001b[36m(RolloutWorker pid=9094)\u001b[0m Instructions for updating:\n",
      "\u001b[2m\u001b[36m(RolloutWorker pid=9094)\u001b[0m Prefer Variable.assign which has equivalent behavior in 2.X.\n",
      "\u001b[2m\u001b[36m(RolloutWorker pid=9095)\u001b[0m WARNING:tensorflow:From /home/ajit/anaconda3/envs/rllib-stable/lib/python3.9/site-packages/ray/rllib/utils/exploration/epsilon_greedy.py:241: Variable.load (from tensorflow.python.ops.variables) is deprecated and will be removed in a future version.\n",
      "\u001b[2m\u001b[36m(RolloutWorker pid=9095)\u001b[0m Instructions for updating:\n",
      "\u001b[2m\u001b[36m(RolloutWorker pid=9095)\u001b[0m Prefer Variable.assign which has equivalent behavior in 2.X.\n",
      "\u001b[2m\u001b[36m(RolloutWorker pid=9096)\u001b[0m WARNING:tensorflow:From /home/ajit/anaconda3/envs/rllib-stable/lib/python3.9/site-packages/ray/rllib/utils/exploration/epsilon_greedy.py:241: Variable.load (from tensorflow.python.ops.variables) is deprecated and will be removed in a future version.\n",
      "\u001b[2m\u001b[36m(RolloutWorker pid=9096)\u001b[0m Instructions for updating:\n",
      "\u001b[2m\u001b[36m(RolloutWorker pid=9096)\u001b[0m Prefer Variable.assign which has equivalent behavior in 2.X.\n",
      "\u001b[2m\u001b[36m(RolloutWorker pid=9093)\u001b[0m WARNING:tensorflow:From /home/ajit/anaconda3/envs/rllib-stable/lib/python3.9/site-packages/ray/rllib/utils/exploration/epsilon_greedy.py:241: Variable.load (from tensorflow.python.ops.variables) is deprecated and will be removed in a future version.\n",
      "\u001b[2m\u001b[36m(RolloutWorker pid=9093)\u001b[0m Instructions for updating:\n",
      "\u001b[2m\u001b[36m(RolloutWorker pid=9093)\u001b[0m Prefer Variable.assign which has equivalent behavior in 2.X.\n"
     ]
    }
   ],
   "source": [
>>>>>>> 3c79a621d23be0bf9f51b17076d0c87a7020f486
    "new_trainer.restore(best_checkpoint)"
   ]
  },
  {
   "cell_type": "code",
<<<<<<< HEAD
   "execution_count": 5,
=======
   "execution_count": null,
>>>>>>> 3c79a621d23be0bf9f51b17076d0c87a7020f486
   "id": "3444bbcb-b871-4109-bbac-008d0f486a7c",
   "metadata": {},
   "outputs": [
    {
     "data": {
      "text/plain": [
<<<<<<< HEAD
       "{'evaluation': {'episode_reward_max': nan,\n",
       "  'episode_reward_min': nan,\n",
       "  'episode_reward_mean': nan,\n",
       "  'episode_len_mean': nan,\n",
       "  'episode_media': {},\n",
       "  'episodes_this_iter': 0,\n",
=======
       "{'evaluation': {'episode_reward_max': 0.0,\n",
       "  'episode_reward_min': 0.0,\n",
       "  'episode_reward_mean': 0.0,\n",
       "  'episode_len_mean': 19.5,\n",
       "  'episode_media': {},\n",
       "  'episodes_this_iter': 2,\n",
>>>>>>> 3c79a621d23be0bf9f51b17076d0c87a7020f486
       "  'policy_reward_min': {},\n",
       "  'policy_reward_max': {},\n",
       "  'policy_reward_mean': {},\n",
       "  'custom_metrics': {},\n",
<<<<<<< HEAD
       "  'hist_stats': {'episode_reward': [], 'episode_lengths': []},\n",
       "  'sampler_perf': {},\n",
=======
       "  'hist_stats': {'episode_reward': [0.0, 0.0], 'episode_lengths': [2, 37]},\n",
       "  'sampler_perf': {'mean_raw_obs_processing_ms': 0.4772325841391959,\n",
       "   'mean_inference_ms': 4.362298221122928,\n",
       "   'mean_action_processing_ms': 0.14910465333519912,\n",
       "   'mean_env_wait_ms': 0.12515812385372999,\n",
       "   'mean_env_render_ms': 0.0},\n",
>>>>>>> 3c79a621d23be0bf9f51b17076d0c87a7020f486
       "  'off_policy_estimator': {},\n",
       "  'timesteps_this_iter': 40}}"
      ]
     },
<<<<<<< HEAD
     "execution_count": 5,
=======
     "execution_count": 8,
>>>>>>> 3c79a621d23be0bf9f51b17076d0c87a7020f486
     "metadata": {},
     "output_type": "execute_result"
    }
   ],
   "source": [
    "new_trainer.evaluate()"
   ]
  },
  {
   "cell_type": "code",
<<<<<<< HEAD
   "execution_count": 9,
   "id": "e14fa9e1-9fba-4121-9491-10a3694902bc",
   "metadata": {},
   "outputs": [
    {
     "data": {
      "image/png": "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\n",
      "text/plain": [
       "<Figure size 432x288 with 1 Axes>"
      ]
     },
     "metadata": {
      "needs_background": "light"
     },
     "output_type": "display_data"
    },
    {
     "name": "stdout",
     "output_type": "stream",
     "text": [
      "\u001b[2m\u001b[1m\u001b[33m(scheduler +2m26s)\u001b[0m Warning: The following resource request cannot be scheduled right now: {'CPU': 1.0}. This is likely due to all cluster resources being claimed by actors. Consider creating fewer actors or adding more nodes to this Ray cluster.\n"
     ]
    }
   ],
   "source": [
    "env = gym.make('CartPole-v1')\n",
    "obs = env.reset()\n",
    "done = False\n",
    "img = plt.imshow(env.render(mode='rgb_array')) \n",
    "while not done:\n",
    "    obs, _, done, _ = env.step(new_trainer.compute_single_action(obs,explore=False))\n",
    "    img.set_data(env.render(mode='rgb_array')) \n",
    "    plt.axis('off')\n",
    "    display.display(plt.gcf())\n",
    "    display.clear_output(wait=True)\n",
    "env.close()"
   ]
  },
  {
   "cell_type": "code",
   "execution_count": null,
   "id": "a228d38b-7aaf-4000-af2d-00e861f3d5ab",
=======
   "execution_count": null,
   "id": "71be365e-3886-4230-b912-c668e37744f2",
>>>>>>> 3c79a621d23be0bf9f51b17076d0c87a7020f486
   "metadata": {},
   "outputs": [],
   "source": []
  }
 ],
 "metadata": {
  "kernelspec": {
<<<<<<< HEAD
   "display_name": "Python 3 (ipykernel)",
=======
   "display_name": "Python 3.9.12 ('rllib')",
>>>>>>> 3c79a621d23be0bf9f51b17076d0c87a7020f486
   "language": "python",
   "name": "python3"
  },
  "language_info": {
   "codemirror_mode": {
    "name": "ipython",
    "version": 3
   },
   "file_extension": ".py",
   "mimetype": "text/x-python",
   "name": "python",
   "nbconvert_exporter": "python",
   "pygments_lexer": "ipython3",
   "version": "3.9.12"
<<<<<<< HEAD
=======
  },
  "vscode": {
   "interpreter": {
    "hash": "e4f776a727d460e0bd4838751ebe198557dfb02a6bdf255e7525c0410567655d"
   }
>>>>>>> 3c79a621d23be0bf9f51b17076d0c87a7020f486
  }
 },
 "nbformat": 4,
 "nbformat_minor": 5
}
