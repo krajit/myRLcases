{
 "cells": [
  {
   "cell_type": "code",
   "execution_count": 1,
   "id": "35f349cd-173b-4891-81cd-649ab62cd6c8",
   "metadata": {},
   "outputs": [
    {
     "name": "stdout",
     "output_type": "stream",
     "text": [
      "pygame 2.1.2 (SDL 2.0.16, Python 3.9.12)\n",
      "Hello from the pygame community. https://www.pygame.org/contribute.html\n"
     ]
    },
    {
     "name": "stderr",
     "output_type": "stream",
     "text": [
      "2022-08-04 11:53:18,959\tINFO services.py:1470 -- View the Ray dashboard at \u001b[1m\u001b[32mhttp://127.0.0.1:8265\u001b[39m\u001b[22m\n",
      "2022-08-04 11:53:19,002\tERROR resource_spec.py:194 -- Could not parse gpu information.\n",
      "Traceback (most recent call last):\n",
      "  File \"/home/ajit/anaconda3/envs/rllib-stable/lib/python3.9/site-packages/ray/_private/resource_spec.py\", line 188, in resolve\n",
      "    gpu_types = _get_gpu_types_gputil()\n",
      "  File \"/home/ajit/anaconda3/envs/rllib-stable/lib/python3.9/site-packages/ray/_private/resource_spec.py\", line 301, in _get_gpu_types_gputil\n",
      "    gpu_list = GPUtil.getGPUs()\n",
      "  File \"/home/ajit/anaconda3/envs/rllib-stable/lib/python3.9/site-packages/GPUtil/GPUtil.py\", line 102, in getGPUs\n",
      "    deviceIds = int(vals[i])\n",
      "ValueError: invalid literal for int() with base 10: 'Failed to initialize NVML: Driver/library version mismatch'\n"
     ]
    },
    {
     "data": {
      "text/plain": [
       "RayContext(dashboard_url='127.0.0.1:8265', python_version='3.9.12', ray_version='1.13.0', ray_commit='e4ce38d001dbbe09cd21c497fedd03d692b2be3e', address_info={'node_ip_address': '10.13.62.8', 'raylet_ip_address': '10.13.62.8', 'redis_address': None, 'object_store_address': '/tmp/ray/session_2022-08-04_11-53-16_940088_141815/sockets/plasma_store', 'raylet_socket_name': '/tmp/ray/session_2022-08-04_11-53-16_940088_141815/sockets/raylet', 'webui_url': '127.0.0.1:8265', 'session_dir': '/tmp/ray/session_2022-08-04_11-53-16_940088_141815', 'metrics_export_port': 51288, 'gcs_address': '10.13.62.8:53785', 'address': '10.13.62.8:53785', 'node_id': 'c898da70375e70fc01e1d0e814385dc292432f2f0712ae78ea78fe2f'})"
      ]
     },
     "execution_count": 1,
     "metadata": {},
     "output_type": "execute_result"
    }
   ],
   "source": [
    "import gym\n",
    "import ray\n",
    "from ray.rllib.agents.ppo import PPOTrainer\n",
    "from ray.rllib.agents.dqn import DQNTrainer\n",
    "\n",
    "import pygame\n",
    "import numpy as np\n",
    "\n",
    "import torch\n",
    "from IPython.display import clear_output\n",
    "from IPython import display\n",
    "import random\n",
    "import matplotlib.pylab as plt\n",
    "\n",
    "#ray.init(num_cpus=4, num_gpus=0)\n",
    "ray.init(local_mode=True, num_gpus=0)\n"
   ]
  },
  {
   "cell_type": "code",
   "execution_count": 2,
   "id": "9f44be24-3145-4df8-a0f6-80caf30c55cf",
   "metadata": {},
   "outputs": [],
   "source": [
    "config = {\n",
    "#    \"framework\":'tf2',\n",
    "#        \"framework\": \"torch\",\n",
    "        \"env\":\"'LunarLanderContinuous-v2'\",  \n",
    "#        \"env_config\":{'size':6, 'numHoles': 10},\n",
    "        \"num_workers\": 10,\n",
    "          # \"model\": {\n",
    "          #    \"custom_model\": MyTorchModel,  # for torch users: \"custom_model\": MyTorchModel\n",
    "          #    \"custom_model_config\": {},\n",
    "          # },\n",
    "        # 'num_envs_per_worker': 20,\n",
    "        \"create_env_on_driver\": True,\n",
    "#        \"train_batch_size\": 400,\n",
    "         \"n_step\": 2, # multistep\n",
    "        # \"num_atoms\": 4,  # for distributional DQN\n",
    "        # \"v_min\": 0.0, \n",
    "        # \"v_max\": 1.0    \n",
    " #    \"num_gpus\": 1,\n",
    "}\n"
   ]
  },
  {
   "cell_type": "code",
   "execution_count": 3,
   "id": "2296faf7-a4ef-4dfd-bf92-ec9636cc09c9",
   "metadata": {},
   "outputs": [
    {
     "name": "stderr",
     "output_type": "stream",
     "text": [
      "2022-08-04 11:53:34,282\tWARNING worker.py:525 -- `ray.get_gpu_ids()` will always return the empty list when called from the driver. This is because Ray does not manage GPU allocations to the driver process.\n",
      ":task_name:bundle_reservation_check_func\n",
      ":actor_name:PGTrainer\n",
      "[2022-08-04 11:53:34,335 E 141815 141815] core_worker.cc:1382: Pushed Error with JobID: 01000000 of type: task with message: \u001b[36mray::PGTrainer.__init__()\u001b[39m (pid=141815, ip=10.13.62.8, repr=PGTrainer)\n",
      "  File \"/home/ajit/anaconda3/envs/rllib-stable/lib/python3.9/site-packages/ray/rllib/agents/trainer.py\", line 870, in __init__\n",
      "    super().__init__(\n",
      "  File \"/home/ajit/anaconda3/envs/rllib-stable/lib/python3.9/site-packages/ray/tune/trainable.py\", line 156, in __init__\n",
      "    self.setup(copy.deepcopy(self.config))\n",
      "  File \"/home/ajit/anaconda3/envs/rllib-stable/lib/python3.9/site-packages/ray/rllib/agents/trainer.py\", line 883, in setup\n",
      "    self.config = self.merge_trainer_configs(\n",
      "  File \"/home/ajit/anaconda3/envs/rllib-stable/lib/python3.9/site-packages/ray/rllib/agents/trainer.py\", line 2258, in merge_trainer_configs\n",
      "    return deep_update(\n",
      "  File \"/home/ajit/anaconda3/envs/rllib-stable/lib/python3.9/site-packages/ray/util/ml_utils/dict.py\", line 52, in deep_update\n",
      "    raise Exception(\"Unknown config parameter `{}` \".format(k))\n",
      "Exception: Unknown config parameter `n_step` at time: 1.65959e+09\n",
      "2022-08-04 11:53:34,336\tERROR actor.py:888 -- Exception raised in creation task: The actor died because of an error raised in its creation task, \u001b[36mray::PGTrainer.__init__()\u001b[39m (pid=141815, ip=10.13.62.8, repr=PGTrainer)\n",
      "  File \"/home/ajit/anaconda3/envs/rllib-stable/lib/python3.9/site-packages/ray/rllib/agents/trainer.py\", line 870, in __init__\n",
      "    super().__init__(\n",
      "  File \"/home/ajit/anaconda3/envs/rllib-stable/lib/python3.9/site-packages/ray/tune/trainable.py\", line 156, in __init__\n",
      "    self.setup(copy.deepcopy(self.config))\n",
      "  File \"/home/ajit/anaconda3/envs/rllib-stable/lib/python3.9/site-packages/ray/rllib/agents/trainer.py\", line 883, in setup\n",
      "    self.config = self.merge_trainer_configs(\n",
      "  File \"/home/ajit/anaconda3/envs/rllib-stable/lib/python3.9/site-packages/ray/rllib/agents/trainer.py\", line 2258, in merge_trainer_configs\n",
      "    return deep_update(\n",
      "  File \"/home/ajit/anaconda3/envs/rllib-stable/lib/python3.9/site-packages/ray/util/ml_utils/dict.py\", line 52, in deep_update\n",
      "    raise Exception(\"Unknown config parameter `{}` \".format(k))\n",
      "Exception: Unknown config parameter `n_step`\n",
      "[2022-08-04 11:53:34,342 E 141815 141815] core_worker.cc:1382: Pushed Error with JobID: 01000000 of type: task with message: \u001b[36mray::PGTrainer.get_auto_filled_metrics()::Exiting\u001b[39m (pid=141815, ip=10.13.62.8, repr=PGTrainer)\n",
      "  File \"/home/ajit/anaconda3/envs/rllib-stable/lib/python3.9/site-packages/ray/tune/trainable.py\", line 263, in get_auto_filled_metrics\n",
      "    \"warmup_time\": self._warmup_time,\n",
      "AttributeError: 'PGTrainer' object has no attribute '_warmup_time' at time: 1.65959e+09\n",
      "[2022-08-04 11:53:34,344 E 141815 141815] core_worker.cc:1382: Pushed Error with JobID: 01000000 of type: task with message: \u001b[36mray::PGTrainer.train()::Exiting\u001b[39m (pid=141815, ip=10.13.62.8, repr=PGTrainer)\n",
      "  File \"/home/ajit/anaconda3/envs/rllib-stable/lib/python3.9/site-packages/ray/tune/trainable.py\", line 357, in train\n",
      "    if self._warmup_time is None:\n",
      "AttributeError: 'PGTrainer' object has no attribute '_warmup_time' at time: 1.65959e+09\n"
     ]
    },
    {
     "name": "stdout",
     "output_type": "stream",
     "text": [
      ":task_name:bundle_reservation_check_func\n",
      ":actor_name:PGTrainer\n"
     ]
    },
    {
     "ename": "RayTaskError(AttributeError)",
     "evalue": "\u001b[36mray::PGTrainer.get_auto_filled_metrics()::Exiting\u001b[39m (pid=141815, ip=10.13.62.8, repr=PGTrainer)\n  File \"/home/ajit/anaconda3/envs/rllib-stable/lib/python3.9/site-packages/ray/tune/trainable.py\", line 263, in get_auto_filled_metrics\n    \"warmup_time\": self._warmup_time,\nAttributeError: 'PGTrainer' object has no attribute '_warmup_time'",
     "output_type": "error",
     "traceback": [
      "\u001b[0;31m---------------------------------------------------------------------------\u001b[0m",
      "\u001b[0;31mRayTaskError(AttributeError)\u001b[0m              Traceback (most recent call last)",
      "File \u001b[0;32m/tmp/ipykernel_141815/1180654047.py:10\u001b[0m, in \u001b[0;36m<cell line: 10>\u001b[0;34m()\u001b[0m\n\u001b[1;32m      3\u001b[0m \u001b[38;5;66;03m#tune_config[\"lr\"] = tune.grid_search([0.0001])  # <- 0.5? again: ouch!\u001b[39;00m\n\u001b[1;32m      5\u001b[0m stop \u001b[38;5;241m=\u001b[39m {\n\u001b[1;32m      6\u001b[0m     \u001b[38;5;124m\"\u001b[39m\u001b[38;5;124mtraining_iteration\u001b[39m\u001b[38;5;124m\"\u001b[39m: \u001b[38;5;241m10\u001b[39m,\n\u001b[1;32m      7\u001b[0m     \u001b[38;5;124m\"\u001b[39m\u001b[38;5;124mepisode_reward_mean\u001b[39m\u001b[38;5;124m\"\u001b[39m: \u001b[38;5;241m195\u001b[39m,\n\u001b[1;32m      8\u001b[0m }\n\u001b[0;32m---> 10\u001b[0m analysis \u001b[38;5;241m=\u001b[39m  \u001b[43mtune\u001b[49m\u001b[38;5;241;43m.\u001b[39;49m\u001b[43mrun\u001b[49m\u001b[43m(\u001b[49m\n\u001b[1;32m     11\u001b[0m \u001b[43m    \u001b[49m\u001b[38;5;124;43m\"\u001b[39;49m\u001b[38;5;124;43mPG\u001b[39;49m\u001b[38;5;124;43m\"\u001b[39;49m\u001b[43m,\u001b[49m\n\u001b[1;32m     12\u001b[0m \u001b[43m    \u001b[49m\u001b[43mconfig\u001b[49m\u001b[38;5;241;43m=\u001b[39;49m\u001b[43mtune_config\u001b[49m\u001b[43m,\u001b[49m\n\u001b[1;32m     13\u001b[0m \u001b[43m    \u001b[49m\u001b[43mstop\u001b[49m\u001b[38;5;241;43m=\u001b[39;49m\u001b[43mstop\u001b[49m\u001b[43m,\u001b[49m\n\u001b[1;32m     14\u001b[0m \u001b[43m    \u001b[49m\u001b[43mcheckpoint_at_end\u001b[49m\u001b[38;5;241;43m=\u001b[39;49m\u001b[38;5;28;43;01mTrue\u001b[39;49;00m\u001b[43m,\u001b[49m\u001b[43m  \u001b[49m\n\u001b[1;32m     15\u001b[0m \u001b[43m    \u001b[49m\u001b[43mcheckpoint_freq\u001b[49m\u001b[38;5;241;43m=\u001b[39;49m\u001b[38;5;241;43m5\u001b[39;49m\u001b[43m,\u001b[49m\u001b[43m  \u001b[49m\n\u001b[1;32m     16\u001b[0m \u001b[43m    \u001b[49m\u001b[43mlocal_dir\u001b[49m\u001b[38;5;241;43m=\u001b[39;49m\u001b[38;5;124;43m\"\u001b[39;49m\u001b[38;5;124;43mcheckPoints/\u001b[39;49m\u001b[38;5;124;43m\"\u001b[39;49m\u001b[43m,\u001b[49m\n\u001b[1;32m     17\u001b[0m \u001b[43m    \u001b[49m\u001b[43mverbose\u001b[49m\u001b[38;5;241;43m=\u001b[39;49m\u001b[38;5;241;43m1\u001b[39;49m\u001b[43m,\u001b[49m\n\u001b[1;32m     18\u001b[0m \u001b[43m    \u001b[49m\u001b[38;5;66;43;03m#resume=True,\u001b[39;49;00m\n\u001b[1;32m     19\u001b[0m \u001b[43m   \u001b[49m\n\u001b[1;32m     20\u001b[0m \u001b[43m)\u001b[49m\n",
      "File \u001b[0;32m~/anaconda3/envs/rllib-stable/lib/python3.9/site-packages/ray/tune/tune.py:720\u001b[0m, in \u001b[0;36mrun\u001b[0;34m(run_or_experiment, name, metric, mode, stop, time_budget_s, config, resources_per_trial, num_samples, local_dir, search_alg, scheduler, keep_checkpoints_num, checkpoint_score_attr, checkpoint_freq, checkpoint_at_end, verbose, progress_reporter, log_to_file, trial_name_creator, trial_dirname_creator, sync_config, export_formats, max_failures, fail_fast, restore, server_port, resume, reuse_actors, trial_executor, raise_on_failed_trial, callbacks, max_concurrent_trials, _experiment_checkpoint_dir, loggers, _remote)\u001b[0m\n\u001b[1;32m    718\u001b[0m     runner\u001b[38;5;241m.\u001b[39mstep()\n\u001b[1;32m    719\u001b[0m     \u001b[38;5;28;01mif\u001b[39;00m has_verbosity(Verbosity\u001b[38;5;241m.\u001b[39mV1_EXPERIMENT):\n\u001b[0;32m--> 720\u001b[0m         \u001b[43m_report_progress\u001b[49m\u001b[43m(\u001b[49m\u001b[43mrunner\u001b[49m\u001b[43m,\u001b[49m\u001b[43m \u001b[49m\u001b[43mprogress_reporter\u001b[49m\u001b[43m)\u001b[49m\n\u001b[1;32m    721\u001b[0m tune_taken \u001b[38;5;241m=\u001b[39m time\u001b[38;5;241m.\u001b[39mtime() \u001b[38;5;241m-\u001b[39m tune_start\n\u001b[1;32m    723\u001b[0m \u001b[38;5;28;01mtry\u001b[39;00m:\n",
      "File \u001b[0;32m~/anaconda3/envs/rllib-stable/lib/python3.9/site-packages/ray/tune/tune.py:122\u001b[0m, in \u001b[0;36m_report_progress\u001b[0;34m(runner, reporter, done)\u001b[0m\n\u001b[1;32m    120\u001b[0m sched_debug_str \u001b[38;5;241m=\u001b[39m runner\u001b[38;5;241m.\u001b[39mscheduler_alg\u001b[38;5;241m.\u001b[39mdebug_string()\n\u001b[1;32m    121\u001b[0m executor_debug_str \u001b[38;5;241m=\u001b[39m runner\u001b[38;5;241m.\u001b[39mtrial_executor\u001b[38;5;241m.\u001b[39mdebug_string()\n\u001b[0;32m--> 122\u001b[0m \u001b[43mreporter\u001b[49m\u001b[38;5;241;43m.\u001b[39;49m\u001b[43mreport\u001b[49m\u001b[43m(\u001b[49m\u001b[43mtrials\u001b[49m\u001b[43m,\u001b[49m\u001b[43m \u001b[49m\u001b[43mdone\u001b[49m\u001b[43m,\u001b[49m\u001b[43m \u001b[49m\u001b[43msched_debug_str\u001b[49m\u001b[43m,\u001b[49m\u001b[43m \u001b[49m\u001b[43mexecutor_debug_str\u001b[49m\u001b[43m)\u001b[49m\n",
      "File \u001b[0;32m~/anaconda3/envs/rllib-stable/lib/python3.9/site-packages/ray/tune/progress_reporter.py:504\u001b[0m, in \u001b[0;36mJupyterNotebookReporter.report\u001b[0;34m(self, trials, done, *sys_info)\u001b[0m\n\u001b[1;32m    502\u001b[0m \u001b[38;5;28;01mdef\u001b[39;00m \u001b[38;5;21mreport\u001b[39m(\u001b[38;5;28mself\u001b[39m, trials: List[Trial], done: \u001b[38;5;28mbool\u001b[39m, \u001b[38;5;241m*\u001b[39msys_info: Dict):\n\u001b[1;32m    503\u001b[0m     overwrite \u001b[38;5;241m=\u001b[39m \u001b[38;5;28mself\u001b[39m\u001b[38;5;241m.\u001b[39m_overwrite\n\u001b[0;32m--> 504\u001b[0m     progress_str \u001b[38;5;241m=\u001b[39m \u001b[38;5;28;43mself\u001b[39;49m\u001b[38;5;241;43m.\u001b[39;49m\u001b[43m_progress_str\u001b[49m\u001b[43m(\u001b[49m\n\u001b[1;32m    505\u001b[0m \u001b[43m        \u001b[49m\u001b[43mtrials\u001b[49m\u001b[43m,\u001b[49m\u001b[43m \u001b[49m\u001b[43mdone\u001b[49m\u001b[43m,\u001b[49m\u001b[43m \u001b[49m\u001b[38;5;241;43m*\u001b[39;49m\u001b[43msys_info\u001b[49m\u001b[43m,\u001b[49m\u001b[43m \u001b[49m\u001b[43mfmt\u001b[49m\u001b[38;5;241;43m=\u001b[39;49m\u001b[38;5;124;43m\"\u001b[39;49m\u001b[38;5;124;43mhtml\u001b[39;49m\u001b[38;5;124;43m\"\u001b[39;49m\u001b[43m,\u001b[49m\u001b[43m \u001b[49m\u001b[43mdelim\u001b[49m\u001b[38;5;241;43m=\u001b[39;49m\u001b[38;5;124;43m\"\u001b[39;49m\u001b[38;5;124;43m<br>\u001b[39;49m\u001b[38;5;124;43m\"\u001b[39;49m\n\u001b[1;32m    506\u001b[0m \u001b[43m    \u001b[49m\u001b[43m)\u001b[49m\n\u001b[1;32m    508\u001b[0m     \u001b[38;5;28;01mdef\u001b[39;00m \u001b[38;5;21mupdate_output\u001b[39m():\n\u001b[1;32m    509\u001b[0m         \u001b[38;5;28;01mfrom\u001b[39;00m \u001b[38;5;21;01mIPython\u001b[39;00m\u001b[38;5;21;01m.\u001b[39;00m\u001b[38;5;21;01mdisplay\u001b[39;00m \u001b[38;5;28;01mimport\u001b[39;00m clear_output\n",
      "File \u001b[0;32m~/anaconda3/envs/rllib-stable/lib/python3.9/site-packages/ray/tune/progress_reporter.py:331\u001b[0m, in \u001b[0;36mTuneReporterBase._progress_str\u001b[0;34m(self, trials, done, fmt, delim, *sys_info)\u001b[0m\n\u001b[1;32m    317\u001b[0m \u001b[38;5;124;03m\"\"\"Returns full progress string.\u001b[39;00m\n\u001b[1;32m    318\u001b[0m \n\u001b[1;32m    319\u001b[0m \u001b[38;5;124;03mThis string contains a progress table and error table. The progress\u001b[39;00m\n\u001b[0;32m   (...)\u001b[0m\n\u001b[1;32m    328\u001b[0m \u001b[38;5;124;03m    delim: Delimiter between messages.\u001b[39;00m\n\u001b[1;32m    329\u001b[0m \u001b[38;5;124;03m\"\"\"\u001b[39;00m\n\u001b[1;32m    330\u001b[0m \u001b[38;5;28;01mif\u001b[39;00m \u001b[38;5;129;01mnot\u001b[39;00m \u001b[38;5;28mself\u001b[39m\u001b[38;5;241m.\u001b[39m_metrics_override:\n\u001b[0;32m--> 331\u001b[0m     user_metrics \u001b[38;5;241m=\u001b[39m \u001b[38;5;28;43mself\u001b[39;49m\u001b[38;5;241;43m.\u001b[39;49m\u001b[43m_infer_user_metrics\u001b[49m\u001b[43m(\u001b[49m\u001b[43mtrials\u001b[49m\u001b[43m,\u001b[49m\u001b[43m \u001b[49m\u001b[38;5;28;43mself\u001b[39;49m\u001b[38;5;241;43m.\u001b[39;49m\u001b[43m_infer_limit\u001b[49m\u001b[43m)\u001b[49m\n\u001b[1;32m    332\u001b[0m     \u001b[38;5;28mself\u001b[39m\u001b[38;5;241m.\u001b[39m_metric_columns\u001b[38;5;241m.\u001b[39mupdate(user_metrics)\n\u001b[1;32m    333\u001b[0m messages \u001b[38;5;241m=\u001b[39m [\n\u001b[1;32m    334\u001b[0m     \u001b[38;5;124m\"\u001b[39m\u001b[38;5;124m== Status ==\u001b[39m\u001b[38;5;124m\"\u001b[39m,\n\u001b[1;32m    335\u001b[0m     time_passed_str(\u001b[38;5;28mself\u001b[39m\u001b[38;5;241m.\u001b[39m_start_time, time\u001b[38;5;241m.\u001b[39mtime()),\n\u001b[1;32m    336\u001b[0m     memory_debug_str(),\n\u001b[1;32m    337\u001b[0m     \u001b[38;5;241m*\u001b[39msys_info,\n\u001b[1;32m    338\u001b[0m ]\n",
      "File \u001b[0;32m~/anaconda3/envs/rllib-stable/lib/python3.9/site-packages/ray/tune/progress_reporter.py:379\u001b[0m, in \u001b[0;36mTuneReporterBase._infer_user_metrics\u001b[0;34m(self, trials, limit)\u001b[0m\n\u001b[1;32m    377\u001b[0m \u001b[38;5;28mself\u001b[39m\u001b[38;5;241m.\u001b[39m_inferred_metrics \u001b[38;5;241m=\u001b[39m {}\n\u001b[1;32m    378\u001b[0m \u001b[38;5;28;01mfor\u001b[39;00m t \u001b[38;5;129;01min\u001b[39;00m trials:\n\u001b[0;32m--> 379\u001b[0m     \u001b[38;5;28;01mif\u001b[39;00m \u001b[38;5;129;01mnot\u001b[39;00m \u001b[43mt\u001b[49m\u001b[38;5;241;43m.\u001b[39;49m\u001b[43mlast_result\u001b[49m:\n\u001b[1;32m    380\u001b[0m         \u001b[38;5;28;01mcontinue\u001b[39;00m\n\u001b[1;32m    381\u001b[0m     \u001b[38;5;28;01mfor\u001b[39;00m metric, value \u001b[38;5;129;01min\u001b[39;00m t\u001b[38;5;241m.\u001b[39mlast_result\u001b[38;5;241m.\u001b[39mitems():\n",
      "File \u001b[0;32m~/anaconda3/envs/rllib-stable/lib/python3.9/site-packages/ray/tune/trial.py:437\u001b[0m, in \u001b[0;36mTrial.last_result\u001b[0;34m(self)\u001b[0m\n\u001b[1;32m    435\u001b[0m result \u001b[38;5;241m=\u001b[39m \u001b[38;5;28mself\u001b[39m\u001b[38;5;241m.\u001b[39m_last_result\n\u001b[1;32m    436\u001b[0m \u001b[38;5;28;01mif\u001b[39;00m \u001b[38;5;129;01mnot\u001b[39;00m {k \u001b[38;5;28;01mfor\u001b[39;00m k \u001b[38;5;129;01min\u001b[39;00m result \u001b[38;5;28;01mif\u001b[39;00m k \u001b[38;5;241m!=\u001b[39m TRIAL_ID}:\n\u001b[0;32m--> 437\u001b[0m     \u001b[38;5;28;43mself\u001b[39;49m\u001b[38;5;241;43m.\u001b[39;49m\u001b[43m_get_default_result_or_future\u001b[49m\u001b[43m(\u001b[49m\u001b[43m)\u001b[49m\n\u001b[1;32m    438\u001b[0m     result \u001b[38;5;241m=\u001b[39m \u001b[38;5;28mself\u001b[39m\u001b[38;5;241m.\u001b[39m_default_result_or_future \u001b[38;5;129;01mor\u001b[39;00m result\n\u001b[1;32m    439\u001b[0m result\u001b[38;5;241m.\u001b[39msetdefault(TRIAL_ID, \u001b[38;5;28mself\u001b[39m\u001b[38;5;241m.\u001b[39mtrial_id)\n",
      "File \u001b[0;32m~/anaconda3/envs/rllib-stable/lib/python3.9/site-packages/ray/tune/trial.py:412\u001b[0m, in \u001b[0;36mTrial._get_default_result_or_future\u001b[0;34m(self)\u001b[0m\n\u001b[1;32m    408\u001b[0m \u001b[38;5;28;01mif\u001b[39;00m \u001b[38;5;28mself\u001b[39m\u001b[38;5;241m.\u001b[39m_default_result_or_future \u001b[38;5;129;01mand\u001b[39;00m \u001b[38;5;28misinstance\u001b[39m(\n\u001b[1;32m    409\u001b[0m     \u001b[38;5;28mself\u001b[39m\u001b[38;5;241m.\u001b[39m_default_result_or_future, ray\u001b[38;5;241m.\u001b[39mObjectRef\n\u001b[1;32m    410\u001b[0m ):\n\u001b[1;32m    411\u001b[0m     \u001b[38;5;28;01mtry\u001b[39;00m:\n\u001b[0;32m--> 412\u001b[0m         \u001b[38;5;28mself\u001b[39m\u001b[38;5;241m.\u001b[39m_default_result_or_future \u001b[38;5;241m=\u001b[39m \u001b[43mray\u001b[49m\u001b[38;5;241;43m.\u001b[39;49m\u001b[43mget\u001b[49m\u001b[43m(\u001b[49m\u001b[38;5;28;43mself\u001b[39;49m\u001b[38;5;241;43m.\u001b[39;49m\u001b[43m_default_result_or_future\u001b[49m\u001b[43m)\u001b[49m\n\u001b[1;32m    413\u001b[0m     \u001b[38;5;28;01mexcept\u001b[39;00m RayActorError:  \u001b[38;5;66;03m# error during initialization\u001b[39;00m\n\u001b[1;32m    414\u001b[0m         \u001b[38;5;28mself\u001b[39m\u001b[38;5;241m.\u001b[39m_default_result_or_future \u001b[38;5;241m=\u001b[39m \u001b[38;5;28;01mNone\u001b[39;00m\n",
      "File \u001b[0;32m~/anaconda3/envs/rllib-stable/lib/python3.9/site-packages/ray/_private/client_mode_hook.py:105\u001b[0m, in \u001b[0;36mclient_mode_hook.<locals>.wrapper\u001b[0;34m(*args, **kwargs)\u001b[0m\n\u001b[1;32m    103\u001b[0m     \u001b[38;5;28;01mif\u001b[39;00m func\u001b[38;5;241m.\u001b[39m\u001b[38;5;18m__name__\u001b[39m \u001b[38;5;241m!=\u001b[39m \u001b[38;5;124m\"\u001b[39m\u001b[38;5;124minit\u001b[39m\u001b[38;5;124m\"\u001b[39m \u001b[38;5;129;01mor\u001b[39;00m is_client_mode_enabled_by_default:\n\u001b[1;32m    104\u001b[0m         \u001b[38;5;28;01mreturn\u001b[39;00m \u001b[38;5;28mgetattr\u001b[39m(ray, func\u001b[38;5;241m.\u001b[39m\u001b[38;5;18m__name__\u001b[39m)(\u001b[38;5;241m*\u001b[39margs, \u001b[38;5;241m*\u001b[39m\u001b[38;5;241m*\u001b[39mkwargs)\n\u001b[0;32m--> 105\u001b[0m \u001b[38;5;28;01mreturn\u001b[39;00m \u001b[43mfunc\u001b[49m\u001b[43m(\u001b[49m\u001b[38;5;241;43m*\u001b[39;49m\u001b[43margs\u001b[49m\u001b[43m,\u001b[49m\u001b[43m \u001b[49m\u001b[38;5;241;43m*\u001b[39;49m\u001b[38;5;241;43m*\u001b[39;49m\u001b[43mkwargs\u001b[49m\u001b[43m)\u001b[49m\n",
      "File \u001b[0;32m~/anaconda3/envs/rllib-stable/lib/python3.9/site-packages/ray/worker.py:1831\u001b[0m, in \u001b[0;36mget\u001b[0;34m(object_refs, timeout)\u001b[0m\n\u001b[1;32m   1829\u001b[0m     worker\u001b[38;5;241m.\u001b[39mcore_worker\u001b[38;5;241m.\u001b[39mdump_object_store_memory_usage()\n\u001b[1;32m   1830\u001b[0m \u001b[38;5;28;01mif\u001b[39;00m \u001b[38;5;28misinstance\u001b[39m(value, RayTaskError):\n\u001b[0;32m-> 1831\u001b[0m     \u001b[38;5;28;01mraise\u001b[39;00m value\u001b[38;5;241m.\u001b[39mas_instanceof_cause()\n\u001b[1;32m   1832\u001b[0m \u001b[38;5;28;01melse\u001b[39;00m:\n\u001b[1;32m   1833\u001b[0m     \u001b[38;5;28;01mraise\u001b[39;00m value\n",
      "\u001b[0;31mRayTaskError(AttributeError)\u001b[0m: \u001b[36mray::PGTrainer.get_auto_filled_metrics()::Exiting\u001b[39m (pid=141815, ip=10.13.62.8, repr=PGTrainer)\n  File \"/home/ajit/anaconda3/envs/rllib-stable/lib/python3.9/site-packages/ray/tune/trainable.py\", line 263, in get_auto_filled_metrics\n    \"warmup_time\": self._warmup_time,\nAttributeError: 'PGTrainer' object has no attribute '_warmup_time'"
     ]
    },
    {
     "name": "stderr",
     "output_type": "stream",
     "text": [
      "2022-08-04 11:53:39,596\tERROR worker.py:94 -- Unhandled error (suppress with 'RAY_IGNORE_UNHANDLED_ERRORS=1'): \u001b[36mray::PGTrainer.train()::Exiting\u001b[39m (pid=141815, ip=10.13.62.8, repr=PGTrainer)\n",
      "  File \"/home/ajit/anaconda3/envs/rllib-stable/lib/python3.9/site-packages/ray/tune/trainable.py\", line 357, in train\n",
      "    if self._warmup_time is None:\n",
      "AttributeError: 'PGTrainer' object has no attribute '_warmup_time'\n"
     ]
    }
   ],
   "source": [
    "from ray import tune\n",
    "tune_config = config.copy()\n",
    "#tune_config[\"lr\"] = tune.grid_search([0.0001])  # <- 0.5? again: ouch!\n",
    "\n",
    "stop = {\n",
    "    \"training_iteration\": 10,\n",
    "    \"episode_reward_mean\": 195,\n",
    "}\n",
    "\n",
    "analysis =  tune.run(\n",
    "    \"PG\",\n",
    "    config=tune_config,\n",
    "    stop=stop,\n",
    "    checkpoint_at_end=True,  \n",
    "    checkpoint_freq=5,  \n",
    "    local_dir=\"checkPoints/\",\n",
    "    verbose=1,\n",
    "    #resume=True,\n",
    "   \n",
    ")"
   ]
  },
  {
   "cell_type": "code",
   "execution_count": null,
   "id": "1e8f23f4-6fe5-456b-86a2-88ca1361894e",
   "metadata": {},
   "outputs": [],
   "source": [
    "# The previous tune.run (the one we did before the exercise) returned an Analysis object, from which we can access any checkpoint\n",
    "# (given we set checkpoint_freq or checkpoint_at_end to reasonable values) like so:\n",
    "print(analysis)\n",
    "# Get all trials (we only have one).\n",
    "trials = analysis.trials\n",
    "# Assuming, the first trial was the best, we'd like to extract this trial's best checkpoint \"\":\n",
    "best_checkpoint = analysis.get_best_checkpoint(trial=trials[0], metric=\"episode_reward_mean\", mode=\"max\")\n",
    "print(f\"Found best checkpoint for trial #2: {best_checkpoint}\")"
   ]
  },
  {
   "cell_type": "code",
   "execution_count": null,
   "id": "f82557e2-fd5c-408e-a865-d74616f5b781",
   "metadata": {},
   "outputs": [],
   "source": [
    "rllib_config = tune_config.copy()\n",
    "rllib_config[\"lr\"] = 0.0001\n",
    "#rllib_config[\"train_batch_size\"] = 4159\n",
    "rllib_config[\"explore\"] = False\n",
    "\n",
    "# Restore a RLlib Trainer from the checkpoint.\n",
    "new_trainer = DQNTrainer(config=rllib_config)\n",
    "best_checkpoint = \"/home/ajit/Desktop/myRLcases/misc/checkPoints/DQN/DQN_CartPole-v1_00fdc_00000_0_2022-07-26_13-51-52/checkpoint_000043/checkpoint-43\"\n",
    "new_trainer.restore(best_checkpoint)"
   ]
  },
  {
   "cell_type": "code",
   "execution_count": null,
   "id": "3444bbcb-b871-4109-bbac-008d0f486a7c",
   "metadata": {},
   "outputs": [],
   "source": [
    "new_trainer.evaluate()"
   ]
  },
  {
   "cell_type": "code",
   "execution_count": null,
   "id": "e14fa9e1-9fba-4121-9491-10a3694902bc",
   "metadata": {},
   "outputs": [],
   "source": [
    "env = gym.make('CartPole-v1')\n",
    "obs = env.reset()\n",
    "done = False\n",
    "img = plt.imshow(env.render(mode='rgb_array')) \n",
    "while not done:\n",
    "    obs, _, done, _ = env.step(new_trainer.compute_single_action(obs,explore=False))\n",
    "    img.set_data(env.render(mode='rgb_array')) \n",
    "    plt.axis('off')\n",
    "    display.display(plt.gcf())\n",
    "    display.clear_output(wait=True)\n",
    "env.close()"
   ]
  },
  {
   "cell_type": "code",
   "execution_count": 1,
   "id": "a228d38b-7aaf-4000-af2d-00e861f3d5ab",
   "metadata": {},
   "outputs": [],
   "source": [
    "import argparse\n",
    "import pprint\n",
    "from ray import tune\n",
    "import ray"
   ]
  },
  {
   "cell_type": "code",
   "execution_count": 2,
   "id": "74a6b4d7-ef15-44a4-a4d7-f316056147a7",
   "metadata": {},
   "outputs": [],
   "source": [
    "from ray.rllib.agents.pg.pg import (DEFAULT_CONFIG, PGTrainer as trainer)"
   ]
  },
  {
   "cell_type": "code",
   "execution_count": null,
   "id": "11109d76-2ebe-46bf-a823-1e4b505a6cde",
   "metadata": {},
   "outputs": [],
   "source": [
    "config = DEFAULT_CONFIG.copy()\n",
    "config_update = {\n",
    "    \"env\": 'LunarLanderContinuous-v2',\n",
    "    \"num_gpus\": 0,\n",
    "    \"num_workers\": 10,\n",
    "    \"evaluation_num_workers\": 2,\n",
    "    \"evaluation_interval\": 1,\n",
    "    \"create_env_on_driver\": True,\n",
    "    'num_envs_per_worker': 20,\n",
    "}\n",
    "config.update(config_update)\n",
    "pp = pprint.PrettyPrinter(indent=4)\n",
    "pp.pprint(config)"
   ]
  },
  {
   "cell_type": "code",
   "execution_count": 4,
   "id": "217da144-4f61-4d72-811a-dd010b0eb386",
   "metadata": {},
   "outputs": [
    {
     "data": {
      "text/html": [
       "== Status ==<br>Current time: 2022-07-28 14:24:37 (running for 00:16:52.66)<br>Memory usage on this node: 8.5/125.5 GiB<br>Using FIFO scheduling algorithm.<br>Resources requested: 0/16 CPUs, 0/1 GPUs, 0.0/77.09 GiB heap, 0.0/37.03 GiB objects (0.0/1.0 accelerator_type:RTX)<br>Result logdir: /home/ajit/Desktop/myRLcases/misc/checkPoints/PGTrainer_2022-07-28_14-07-44<br>Number of trials: 1/1 (1 TERMINATED)<br><br>"
      ],
      "text/plain": [
       "<IPython.core.display.HTML object>"
      ]
     },
     "metadata": {},
     "output_type": "display_data"
    },
    {
     "name": "stderr",
     "output_type": "stream",
     "text": [
      "2022-07-28 14:24:38,020\tINFO tune.py:747 -- Total run time: 1013.26 seconds (1012.57 seconds for the tuning loop).\n"
     ]
    },
    {
     "data": {
      "text/plain": [
       "<ray.tune.analysis.experiment_analysis.ExperimentAnalysis at 0x7fe1f02e9be0>"
      ]
     },
     "execution_count": 4,
     "metadata": {},
     "output_type": "execute_result"
    }
   ],
   "source": [
    "ray.init()\n",
    "tune.run(\n",
    "    trainer,\n",
    "    stop={\"timesteps_total\":20000000},\n",
    "    config=config,\n",
    "    checkpoint_freq=50,  \n",
    "    local_dir=\"checkPoints/\",\n",
    "    verbose=1,\n",
    ")"
   ]
  },
  {
   "cell_type": "code",
   "execution_count": null,
   "id": "14864672-3458-4e6f-be9e-197cb7c8c0cf",
   "metadata": {},
   "outputs": [],
   "source": []
  }
 ],
 "metadata": {
  "kernelspec": {
   "display_name": "Python 3 (ipykernel)",
   "language": "python",
   "name": "python3"
  },
  "language_info": {
   "codemirror_mode": {
    "name": "ipython",
    "version": 3
   },
   "file_extension": ".py",
   "mimetype": "text/x-python",
   "name": "python",
   "nbconvert_exporter": "python",
   "pygments_lexer": "ipython3",
   "version": "3.9.12"
  }
 },
 "nbformat": 4,
 "nbformat_minor": 5
}
