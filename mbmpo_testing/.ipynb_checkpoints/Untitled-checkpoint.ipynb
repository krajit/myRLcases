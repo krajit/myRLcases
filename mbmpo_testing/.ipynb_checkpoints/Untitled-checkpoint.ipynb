{
 "cells": [
  {
   "cell_type": "code",
   "execution_count": 1,
   "id": "66448559-0aa1-4135-977e-961a800d5c58",
   "metadata": {},
   "outputs": [],
   "source": [
    "import ray\n",
    "ray.shutdown()"
   ]
  },
  {
   "cell_type": "code",
   "execution_count": 2,
   "id": "72ab42b0-dc56-4960-8188-c61744c0e61b",
   "metadata": {},
   "outputs": [
    {
     "name": "stdout",
     "output_type": "stream",
     "text": [
      "Usage stats collection is enabled by default for nightly wheels. To disable this, run the following command: `ray disable-usage-stats` before starting Ray. See https://docs.ray.io/en/master/cluster/usage-stats.html for more details.\n"
     ]
    },
    {
     "name": "stderr",
     "output_type": "stream",
     "text": [
      "2022-08-18 14:54:30,737\tINFO worker.py:1481 -- Started a local Ray instance. View the dashboard at \u001b[1m\u001b[32m127.0.0.1:8265\u001b[39m\u001b[22m.\n"
     ]
    },
    {
     "data": {
      "text/html": [
       "<div>\n",
       "    <div style=\"margin-left: 50px;display: flex;flex-direction: row;align-items: center\">\n",
       "        <h3 style=\"color: var(--jp-ui-font-color0)\">Ray</h3>\n",
       "        <svg version=\"1.1\" id=\"ray\" width=\"3em\" viewBox=\"0 0 144.5 144.6\" style=\"margin-left: 3em;margin-right: 3em\">\n",
       "            <g id=\"layer-1\">\n",
       "                <path fill=\"#00a2e9\" class=\"st0\" d=\"M97.3,77.2c-3.8-1.1-6.2,0.9-8.3,5.1c-3.5,6.8-9.9,9.9-17.4,9.6S58,88.1,54.8,81.2c-1.4-3-3-4-6.3-4.1\n",
       "                    c-5.6-0.1-9.9,0.1-13.1,6.4c-3.8,7.6-13.6,10.2-21.8,7.6C5.2,88.4-0.4,80.5,0,71.7c0.1-8.4,5.7-15.8,13.8-18.2\n",
       "                    c8.4-2.6,17.5,0.7,22.3,8c1.3,1.9,1.3,5.2,3.6,5.6c3.9,0.6,8,0.2,12,0.2c1.8,0,1.9-1.6,2.4-2.8c3.5-7.8,9.7-11.8,18-11.9\n",
       "                    c8.2-0.1,14.4,3.9,17.8,11.4c1.3,2.8,2.9,3.6,5.7,3.3c1-0.1,2,0.1,3,0c2.8-0.5,6.4,1.7,8.1-2.7s-2.3-5.5-4.1-7.5\n",
       "                    c-5.1-5.7-10.9-10.8-16.1-16.3C84,38,81.9,37.1,78,38.3C66.7,42,56.2,35.7,53,24.1C50.3,14,57.3,2.8,67.7,0.5\n",
       "                    C78.4-2,89,4.7,91.5,15.3c0.1,0.3,0.1,0.5,0.2,0.8c0.7,3.4,0.7,6.9-0.8,9.8c-1.7,3.2-0.8,5,1.5,7.2c6.7,6.5,13.3,13,19.8,19.7\n",
       "                    c1.8,1.8,3,2.1,5.5,1.2c9.1-3.4,17.9-0.6,23.4,7c4.8,6.9,4.6,16.1-0.4,22.9c-5.4,7.2-14.2,9.9-23.1,6.5c-2.3-0.9-3.5-0.6-5.1,1.1\n",
       "                    c-6.7,6.9-13.6,13.7-20.5,20.4c-1.8,1.8-2.5,3.2-1.4,5.9c3.5,8.7,0.3,18.6-7.7,23.6c-7.9,5-18.2,3.8-24.8-2.9\n",
       "                    c-6.4-6.4-7.4-16.2-2.5-24.3c4.9-7.8,14.5-11,23.1-7.8c3,1.1,4.7,0.5,6.9-1.7C91.7,98.4,98,92.3,104.2,86c1.6-1.6,4.1-2.7,2.6-6.2\n",
       "                    c-1.4-3.3-3.8-2.5-6.2-2.6C99.8,77.2,98.9,77.2,97.3,77.2z M72.1,29.7c5.5,0.1,9.9-4.3,10-9.8c0-0.1,0-0.2,0-0.3\n",
       "                    C81.8,14,77,9.8,71.5,10.2c-5,0.3-9,4.2-9.3,9.2c-0.2,5.5,4,10.1,9.5,10.3C71.8,29.7,72,29.7,72.1,29.7z M72.3,62.3\n",
       "                    c-5.4-0.1-9.9,4.2-10.1,9.7c0,0.2,0,0.3,0,0.5c0.2,5.4,4.5,9.7,9.9,10c5.1,0.1,9.9-4.7,10.1-9.8c0.2-5.5-4-10-9.5-10.3\n",
       "                    C72.6,62.3,72.4,62.3,72.3,62.3z M115,72.5c0.1,5.4,4.5,9.7,9.8,9.9c5.6-0.2,10-4.8,10-10.4c-0.2-5.4-4.6-9.7-10-9.7\n",
       "                    c-5.3-0.1-9.8,4.2-9.9,9.5C115,72.1,115,72.3,115,72.5z M19.5,62.3c-5.4,0.1-9.8,4.4-10,9.8c-0.1,5.1,5.2,10.4,10.2,10.3\n",
       "                    c5.6-0.2,10-4.9,9.8-10.5c-0.1-5.4-4.5-9.7-9.9-9.6C19.6,62.3,19.5,62.3,19.5,62.3z M71.8,134.6c5.9,0.2,10.3-3.9,10.4-9.6\n",
       "                    c0.5-5.5-3.6-10.4-9.1-10.8c-5.5-0.5-10.4,3.6-10.8,9.1c0,0.5,0,0.9,0,1.4c-0.2,5.3,4,9.8,9.3,10\n",
       "                    C71.6,134.6,71.7,134.6,71.8,134.6z\"/>\n",
       "            </g>\n",
       "        </svg>\n",
       "        <table>\n",
       "            <tr>\n",
       "                <td style=\"text-align: left\"><b>Python version:</b></td>\n",
       "                <td style=\"text-align: left\"><b>3.9.12</b></td>\n",
       "            </tr>\n",
       "            <tr>\n",
       "                <td style=\"text-align: left\"><b>Ray version:</b></td>\n",
       "                <td style=\"text-align: left\"><b> 3.0.0.dev0</b></td>\n",
       "            </tr>\n",
       "            <tr>\n",
       "    <td style=\"text-align: left\"><b>Dashboard:</b></td>\n",
       "    <td style=\"text-align: left\"><b><a href=\"http://127.0.0.1:8265\" target=\"_blank\">http://127.0.0.1:8265</a></b></td>\n",
       "</tr>\n",
       "\n",
       "        </table>\n",
       "    </div>\n",
       "</div>\n"
      ],
      "text/plain": [
       "RayContext(dashboard_url='127.0.0.1:8265', python_version='3.9.12', ray_version='3.0.0.dev0', ray_commit='c2abfdb2f7eee7f3e4320cb0d9e8e3bd639d5680', address_info={'node_ip_address': '10.5.3.246', 'raylet_ip_address': '10.5.3.246', 'redis_address': None, 'object_store_address': '/tmp/ray/session_2022-08-18_14-54-27_483981_16458/sockets/plasma_store', 'raylet_socket_name': '/tmp/ray/session_2022-08-18_14-54-27_483981_16458/sockets/raylet', 'webui_url': '127.0.0.1:8265', 'session_dir': '/tmp/ray/session_2022-08-18_14-54-27_483981_16458', 'metrics_export_port': 61433, 'gcs_address': '10.5.3.246:52531', 'address': '10.5.3.246:52531', 'dashboard_agent_listen_port': 52365, 'node_id': '9ad5e8f66692a8842306ab801c9926ae5402a75db7b0c55a1057e4e2'})"
      ]
     },
     "execution_count": 2,
     "metadata": {},
     "output_type": "execute_result"
    }
   ],
   "source": [
    "import ray\n",
    "ray.init(num_cpus=8, num_gpus=0)"
   ]
  },
  {
   "cell_type": "code",
   "execution_count": 3,
   "id": "ecf8ed5c-7374-4f1d-b682-2e290a6c4e22",
   "metadata": {},
   "outputs": [],
   "source": [
    "from ray.rllib.examples.env.mbmpo_env import CartPoleWrapper\n",
    "from ray.rllib.examples.env.mbmpo_env import PendulumWrapper\n",
    "\n",
    "from ray.tune.registry import register_env\n",
    "\n",
    "def env_creator(env_config): \n",
    "    return CartPoleWrapper()\n",
    "\n",
    "register_env(\"myenv\", env_creator)"
   ]
  },
  {
   "cell_type": "code",
   "execution_count": null,
   "id": "47ee1ef1-f87c-4994-b5a4-889190ae456e",
   "metadata": {},
   "outputs": [
    {
     "name": "stdout",
     "output_type": "stream",
     "text": [
      "\u001b[2m\u001b[36m(MBMPO pid=16838)\u001b[0m Collecting Samples, Inner Adaptation 1\n",
      "\u001b[2m\u001b[36m(MBMPO pid=16838)\u001b[0m Meta-Update Step\n",
      "\u001b[2m\u001b[36m(MBMPO pid=16838)\u001b[0m Training Dynamics Ensemble - Epoch #0:Train loss: 0.00021341769 0.000338119 0.00026868688 7.378783e-05 5.5303943e-05, Valid Loss: 0.0003938734 0.0002736862 0.0005156844 6.218471e-05 0.00010640577,  Moving Avg Valid Loss: 0.0005809633 0.00040368713 0.00076063455 9.1722446e-05 0.00015694852\n"
     ]
    }
   ],
   "source": [
    "from ray import tune\n",
    "\n",
    "config = {\n",
    "        \"env\":\"myenv\",  \n",
    "       \"framework\": \"torch\",\n",
    "        #\"horizon\": 200,\n",
    "        \"num_envs_per_worker\": 20,\n",
    "        \"inner_adaptation_steps\": 1,\n",
    "        \"maml_optimizer_steps\": 8,\n",
    "        \"gamma\": 0.99,\n",
    "        \"lambda\": 1.0,\n",
    "        \"lr\": 0.001,\n",
    "        \"clip_param\": 0.5,\n",
    "        \"kl_target\": 0.003,\n",
    "        \"kl_coeff\": 0.0000000001,\n",
    "        \"num_workers\": 2,\n",
    "        \"num_gpus\": 0,\n",
    "        \"inner_lr\": 0.001,\n",
    "        \"clip_actions\": False,\n",
    "        \"num_maml_steps\": 15,\n",
    "        \"model\": {\n",
    "            \"fcnet_hiddens\": [32, 32],\n",
    "            \"free_log_std\": True,\n",
    "        }        \n",
    "}\n",
    "\n",
    "stop = {\n",
    "   \"episode_reward_mean\": 190,\n",
    "   \"training_iteration\": 20\n",
    "}\n",
    "\n",
    "analysis =  tune.run(\n",
    "    \"MBMPO\",\n",
    "    config=config,\n",
    "    stop=stop,\n",
    "    checkpoint_at_end=True,  \n",
    "    checkpoint_freq=5,  \n",
    "    local_dir=\"checkPoints/\",\n",
    "    verbose=1,\n",
    ")"
   ]
  },
  {
   "cell_type": "code",
   "execution_count": null,
   "id": "1909e57a-a02d-4b31-864d-d7fc355e6194",
   "metadata": {},
   "outputs": [],
   "source": []
  },
  {
   "cell_type": "code",
   "execution_count": null,
   "id": "7fced73a-90a9-4d88-b7b6-c3064491080d",
   "metadata": {},
   "outputs": [],
   "source": [
    "from ray.rllib.algorithms.mbmpo import MBMPO\n",
    "config = ray.rllib.algorithms.mbmpo.DEFAULT_CONFIG.copy()\n",
    "for k in configTuned:\n",
    "    config[k] = configTuned[k]"
   ]
  },
  {
   "cell_type": "code",
   "execution_count": 5,
   "id": "8125a9d6-cadb-4424-a656-f7d4ccce5f3a",
   "metadata": {},
   "outputs": [
    {
     "data": {
      "text/plain": [
       "<ray.rllib.algorithms.mbmpo.mbmpo.MBMPOConfig at 0x7f7361f76940>"
      ]
     },
     "execution_count": 5,
     "metadata": {},
     "output_type": "execute_result"
    }
   ],
   "source": [
    "from ray.rllib.algorithms.mbmpo.mbmpo import MBMPOConfig\n",
    "\n",
    "config = MBMPOConfig().environment(env=\"myenv\")\n",
    "config.framework(\"torch\")\n",
    "\n",
    "# # Build.\n",
    "#algo = config.build()"
   ]
  },
  {
   "cell_type": "code",
   "execution_count": null,
   "id": "135f02fc-60eb-44ad-8a2b-ca5c09d2cc1f",
   "metadata": {},
   "outputs": [],
   "source": [
    "algo = config.build()"
   ]
  },
  {
   "cell_type": "code",
   "execution_count": null,
   "id": "dbf31bc3-54d1-444a-9fff-53f94d20a0ad",
   "metadata": {},
   "outputs": [],
   "source": [
    "algo.train()"
   ]
  },
  {
   "cell_type": "code",
   "execution_count": null,
   "id": "fa3e8520-c16d-4b8a-878f-94065f2fad36",
   "metadata": {},
   "outputs": [],
   "source": []
  }
 ],
 "metadata": {
  "kernelspec": {
   "display_name": "Python 3 (ipykernel)",
   "language": "python",
   "name": "python3"
  },
  "language_info": {
   "codemirror_mode": {
    "name": "ipython",
    "version": 3
   },
   "file_extension": ".py",
   "mimetype": "text/x-python",
   "name": "python",
   "nbconvert_exporter": "python",
   "pygments_lexer": "ipython3",
   "version": "3.9.12"
  }
 },
 "nbformat": 4,
 "nbformat_minor": 5
}
