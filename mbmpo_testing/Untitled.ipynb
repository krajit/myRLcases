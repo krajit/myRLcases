{
 "cells": [
  {
   "cell_type": "code",
   "execution_count": 1,
   "id": "66448559-0aa1-4135-977e-961a800d5c58",
   "metadata": {},
   "outputs": [],
   "source": [
    "import ray\n",
    "ray.shutdown()"
   ]
  },
  {
   "cell_type": "code",
   "execution_count": 2,
   "id": "72ab42b0-dc56-4960-8188-c61744c0e61b",
   "metadata": {},
   "outputs": [
    {
     "name": "stdout",
     "output_type": "stream",
     "text": [
      "Usage stats collection is enabled by default for nightly wheels. To disable this, run the following command: `ray disable-usage-stats` before starting Ray. See https://docs.ray.io/en/master/cluster/usage-stats.html for more details.\n"
     ]
    },
    {
     "name": "stderr",
     "output_type": "stream",
     "text": [
      "2022-08-20 13:04:56,147\tINFO worker.py:1481 -- Started a local Ray instance. View the dashboard at \u001b[1m\u001b[32m127.0.0.1:8265\u001b[39m\u001b[22m.\n"
     ]
    },
    {
     "data": {
      "text/html": [
       "<div>\n",
       "    <div style=\"margin-left: 50px;display: flex;flex-direction: row;align-items: center\">\n",
       "        <h3 style=\"color: var(--jp-ui-font-color0)\">Ray</h3>\n",
       "        <svg version=\"1.1\" id=\"ray\" width=\"3em\" viewBox=\"0 0 144.5 144.6\" style=\"margin-left: 3em;margin-right: 3em\">\n",
       "            <g id=\"layer-1\">\n",
       "                <path fill=\"#00a2e9\" class=\"st0\" d=\"M97.3,77.2c-3.8-1.1-6.2,0.9-8.3,5.1c-3.5,6.8-9.9,9.9-17.4,9.6S58,88.1,54.8,81.2c-1.4-3-3-4-6.3-4.1\n",
       "                    c-5.6-0.1-9.9,0.1-13.1,6.4c-3.8,7.6-13.6,10.2-21.8,7.6C5.2,88.4-0.4,80.5,0,71.7c0.1-8.4,5.7-15.8,13.8-18.2\n",
       "                    c8.4-2.6,17.5,0.7,22.3,8c1.3,1.9,1.3,5.2,3.6,5.6c3.9,0.6,8,0.2,12,0.2c1.8,0,1.9-1.6,2.4-2.8c3.5-7.8,9.7-11.8,18-11.9\n",
       "                    c8.2-0.1,14.4,3.9,17.8,11.4c1.3,2.8,2.9,3.6,5.7,3.3c1-0.1,2,0.1,3,0c2.8-0.5,6.4,1.7,8.1-2.7s-2.3-5.5-4.1-7.5\n",
       "                    c-5.1-5.7-10.9-10.8-16.1-16.3C84,38,81.9,37.1,78,38.3C66.7,42,56.2,35.7,53,24.1C50.3,14,57.3,2.8,67.7,0.5\n",
       "                    C78.4-2,89,4.7,91.5,15.3c0.1,0.3,0.1,0.5,0.2,0.8c0.7,3.4,0.7,6.9-0.8,9.8c-1.7,3.2-0.8,5,1.5,7.2c6.7,6.5,13.3,13,19.8,19.7\n",
       "                    c1.8,1.8,3,2.1,5.5,1.2c9.1-3.4,17.9-0.6,23.4,7c4.8,6.9,4.6,16.1-0.4,22.9c-5.4,7.2-14.2,9.9-23.1,6.5c-2.3-0.9-3.5-0.6-5.1,1.1\n",
       "                    c-6.7,6.9-13.6,13.7-20.5,20.4c-1.8,1.8-2.5,3.2-1.4,5.9c3.5,8.7,0.3,18.6-7.7,23.6c-7.9,5-18.2,3.8-24.8-2.9\n",
       "                    c-6.4-6.4-7.4-16.2-2.5-24.3c4.9-7.8,14.5-11,23.1-7.8c3,1.1,4.7,0.5,6.9-1.7C91.7,98.4,98,92.3,104.2,86c1.6-1.6,4.1-2.7,2.6-6.2\n",
       "                    c-1.4-3.3-3.8-2.5-6.2-2.6C99.8,77.2,98.9,77.2,97.3,77.2z M72.1,29.7c5.5,0.1,9.9-4.3,10-9.8c0-0.1,0-0.2,0-0.3\n",
       "                    C81.8,14,77,9.8,71.5,10.2c-5,0.3-9,4.2-9.3,9.2c-0.2,5.5,4,10.1,9.5,10.3C71.8,29.7,72,29.7,72.1,29.7z M72.3,62.3\n",
       "                    c-5.4-0.1-9.9,4.2-10.1,9.7c0,0.2,0,0.3,0,0.5c0.2,5.4,4.5,9.7,9.9,10c5.1,0.1,9.9-4.7,10.1-9.8c0.2-5.5-4-10-9.5-10.3\n",
       "                    C72.6,62.3,72.4,62.3,72.3,62.3z M115,72.5c0.1,5.4,4.5,9.7,9.8,9.9c5.6-0.2,10-4.8,10-10.4c-0.2-5.4-4.6-9.7-10-9.7\n",
       "                    c-5.3-0.1-9.8,4.2-9.9,9.5C115,72.1,115,72.3,115,72.5z M19.5,62.3c-5.4,0.1-9.8,4.4-10,9.8c-0.1,5.1,5.2,10.4,10.2,10.3\n",
       "                    c5.6-0.2,10-4.9,9.8-10.5c-0.1-5.4-4.5-9.7-9.9-9.6C19.6,62.3,19.5,62.3,19.5,62.3z M71.8,134.6c5.9,0.2,10.3-3.9,10.4-9.6\n",
       "                    c0.5-5.5-3.6-10.4-9.1-10.8c-5.5-0.5-10.4,3.6-10.8,9.1c0,0.5,0,0.9,0,1.4c-0.2,5.3,4,9.8,9.3,10\n",
       "                    C71.6,134.6,71.7,134.6,71.8,134.6z\"/>\n",
       "            </g>\n",
       "        </svg>\n",
       "        <table>\n",
       "            <tr>\n",
       "                <td style=\"text-align: left\"><b>Python version:</b></td>\n",
       "                <td style=\"text-align: left\"><b>3.9.12</b></td>\n",
       "            </tr>\n",
       "            <tr>\n",
       "                <td style=\"text-align: left\"><b>Ray version:</b></td>\n",
       "                <td style=\"text-align: left\"><b> 3.0.0.dev0</b></td>\n",
       "            </tr>\n",
       "            <tr>\n",
       "    <td style=\"text-align: left\"><b>Dashboard:</b></td>\n",
       "    <td style=\"text-align: left\"><b><a href=\"http://127.0.0.1:8265\" target=\"_blank\">http://127.0.0.1:8265</a></b></td>\n",
       "</tr>\n",
       "\n",
       "        </table>\n",
       "    </div>\n",
       "</div>\n"
      ],
      "text/plain": [
       "RayContext(dashboard_url='127.0.0.1:8265', python_version='3.9.12', ray_version='3.0.0.dev0', ray_commit='c2abfdb2f7eee7f3e4320cb0d9e8e3bd639d5680', address_info={'node_ip_address': '192.168.18.179', 'raylet_ip_address': '192.168.18.179', 'redis_address': None, 'object_store_address': '/tmp/ray/session_2022-08-20_13-04-53_474863_20494/sockets/plasma_store', 'raylet_socket_name': '/tmp/ray/session_2022-08-20_13-04-53_474863_20494/sockets/raylet', 'webui_url': '127.0.0.1:8265', 'session_dir': '/tmp/ray/session_2022-08-20_13-04-53_474863_20494', 'metrics_export_port': 64536, 'gcs_address': '192.168.18.179:47450', 'address': '192.168.18.179:47450', 'dashboard_agent_listen_port': 52365, 'node_id': 'c539401f7596b3810e656d77ad16f58a1a8cd4a7d1c6f9ce90231f79'})"
      ]
     },
     "execution_count": 2,
     "metadata": {},
     "output_type": "execute_result"
    }
   ],
   "source": [
    "import ray\n",
    "ray.init(num_cpus=8, num_gpus=0)"
   ]
  },
  {
   "cell_type": "code",
   "execution_count": 3,
   "id": "ecf8ed5c-7374-4f1d-b682-2e290a6c4e22",
   "metadata": {},
   "outputs": [],
   "source": [
    "from ray.rllib.examples.env.mbmpo_env import CartPoleWrapper\n",
    "from ray.rllib.examples.env.mbmpo_env import PendulumWrapper\n",
    "\n",
    "from ray.tune.registry import register_env\n",
    "\n",
    "def env_creator(env_config): \n",
    "    return CartPoleWrapper()\n",
    "\n",
    "register_env(\"myenv\", env_creator)"
   ]
  },
  {
   "cell_type": "code",
   "execution_count": null,
   "id": "47ee1ef1-f87c-4994-b5a4-889190ae456e",
   "metadata": {},
   "outputs": [
    {
     "name": "stdout",
     "output_type": "stream",
     "text": [
      "\u001b[2m\u001b[36m(MBMPO pid=20887)\u001b[0m Training Dynamics Ensemble - Epoch #112:Train loss: 0.002229728 0.00032962015 1.995602e-05 7.490092e-05 1.29192995e-05, Valid Loss: 0.0025713367 0.00038900835 3.3608805e-05 4.352945e-05 2.4460482e-05,  Moving Avg Valid Loss: 0.0022580666 0.0007330955 0.0004428578 0.0004902867 0.0006386992\n",
      "\u001b[2m\u001b[36m(MBMPO pid=20887)\u001b[0m Training Dynamics Ensemble - Epoch #113:Train loss: 0.0025029758 8.1743914e-05 3.20687e-05 2.7344597e-05 2.0907617e-05, Valid Loss: 0.0025713367 0.00011557985 3.7524696e-05 7.443335e-05 6.1489816e-05,  Moving Avg Valid Loss: 0.00227373 0.0007022197 0.00042259114 0.00046949403 0.0006098387\n",
      "\u001b[2m\u001b[36m(MBMPO pid=20887)\u001b[0m Training Dynamics Ensemble - Epoch #114:Train loss: 0.002395464 6.9711474e-05 2.2760109e-05 1.8374634e-05 3.364957e-05, Valid Loss: 0.0025713367 9.81673e-05 4.153618e-05 2.517431e-05 4.2517928e-05,  Moving Avg Valid Loss: 0.0022886102 0.0006720171 0.0004035384 0.00044727803 0.00058147265\n",
      "\u001b[2m\u001b[36m(MBMPO pid=20887)\u001b[0m Training Dynamics Ensemble - Epoch #115:Train loss: 0.002418739 5.5446737e-05 1.4997601e-05 2.1620648e-05 2.2798205e-05, Valid Loss: 0.0025713367 0.0001005005 2.9248049e-05 2.9150353e-05 3.746962e-05,  Moving Avg Valid Loss: 0.0023027465 0.0006434413 0.00038482388 0.00042637164 0.0005542725\n",
      "\u001b[2m\u001b[36m(MBMPO pid=20887)\u001b[0m Training Dynamics Ensemble - Epoch #116:Train loss: 0.0022707332 3.765455e-05 3.0885705e-05 2.1541766e-05 2.1631182e-05, Valid Loss: 0.0025713367 9.1006725e-05 2.2591086e-05 2.4595936e-05 3.3022956e-05,  Moving Avg Valid Loss: 0.002316176 0.00061581953 0.00036671222 0.00040628284 0.00052821\n",
      "\u001b[2m\u001b[36m(MBMPO pid=20887)\u001b[0m Training Dynamics Ensemble - Epoch #117:Train loss: 0.002353774 2.4736446e-05 1.4423154e-05 3.3734188e-05 4.0755738e-05, Valid Loss: 0.0025713367 4.8934093e-05 2.0528723e-05 5.834311e-05 3.3780994e-05,  Moving Avg Valid Loss: 0.002328934 0.00058747525 0.00034940304 0.00038888585 0.0005034886\n",
      "\u001b[2m\u001b[36m(MBMPO pid=20887)\u001b[0m Training Dynamics Ensemble - Epoch #118:Train loss: 0.0022086934 5.3891978e-05 1.2019113e-05 3.338728e-05 5.7194036e-05, Valid Loss: 0.0025713367 8.615092e-05 2.3189043e-05 4.0266845e-05 7.271864e-05,  Moving Avg Valid Loss: 0.002341054 0.000562409 0.00033309232 0.0003714549 0.0004819501\n",
      "\u001b[2m\u001b[36m(MBMPO pid=20887)\u001b[0m Training Dynamics Ensemble - Epoch #119:Train loss: 0.0023923153 5.8920206e-05 2.0809992e-05 1.31604265e-05 3.234654e-05, Valid Loss: 0.0025713367 8.4360974e-05 2.736501e-05 3.3558907e-05 4.3983917e-05,  Moving Avg Valid Loss: 0.0023525679 0.0005385066 0.00031780597 0.0003545601 0.0004600518\n",
      "\u001b[2m\u001b[36m(MBMPO pid=20887)\u001b[0m Training Dynamics Ensemble - Epoch #120:Train loss: 0.002693811 6.516218e-05 2.4396199e-05 2.5059042e-05 8.938325e-05, Valid Loss: 0.0025713367 7.317911e-05 3.7207996e-05 3.2791635e-05 0.000103981714,  Moving Avg Valid Loss: 0.0023635062 0.0005152402 0.00030377606 0.00033847167 0.00044224827\n",
      "\u001b[2m\u001b[36m(MBMPO pid=20887)\u001b[0m Training Dynamics Ensemble - Epoch #121:Train loss: 0.0022385372 4.5831704e-05 2.2673516e-05 3.7310623e-05 2.1662387e-05, Valid Loss: 0.0025713367 6.627982e-05 2.8290951e-05 4.295652e-05 3.3366003e-05,  Moving Avg Valid Loss: 0.0023738977 0.00049279217 0.0002900018 0.00032369592 0.00042180414\n",
      "\u001b[2m\u001b[36m(MBMPO pid=20887)\u001b[0m Training Dynamics Ensemble - Epoch #122:Train loss: 0.0019431309 5.3881213e-05 3.2641336e-05 2.4330711e-05 0.00016273744, Valid Loss: 0.0025713367 4.2104308e-05 3.0040903e-05 4.066165e-05 0.00018743749,  Moving Avg Valid Loss: 0.0023837695 0.00047025777 0.00027700377 0.0003095442 0.0004100858\n",
      "\u001b[2m\u001b[36m(MBMPO pid=20887)\u001b[0m Training Dynamics Ensemble - Epoch #123:Train loss: 0.0021465537 1.5467267e-05 4.128714e-05 3.6676585e-05 0.00014579308, Valid Loss: 0.0025713367 2.5372927e-05 6.428795e-05 4.3538053e-05 0.00022227105,  Moving Avg Valid Loss: 0.0023931477 0.0004480135 0.00026636798 0.0002962439 0.00040069508\n",
      "\u001b[2m\u001b[36m(MBMPO pid=20887)\u001b[0m Training Dynamics Ensemble - Epoch #124:Train loss: 0.0021351085 1.6483029e-05 0.00011786144 5.1362756e-05 0.0001625261, Valid Loss: 0.0025713367 2.4539962e-05 0.00016797088 5.799544e-05 9.424326e-05,  Moving Avg Valid Loss: 0.002402057 0.0004268398 0.00026144812 0.00028433147 0.0003853725\n",
      "\u001b[2m\u001b[36m(MBMPO pid=20887)\u001b[0m Training Dynamics Ensemble - Epoch #125:Train loss: 0.0021693942 2.6586427e-05 0.00059385994 0.00021102719 0.0001295795, Valid Loss: 0.0025713367 2.4508685e-05 0.0003489366 0.00023678856 0.000166041,  Moving Avg Valid Loss: 0.0024105208 0.00040672327 0.0002658225 0.00028195433 0.0003744059\n",
      "\u001b[2m\u001b[36m(MBMPO pid=20887)\u001b[0m Stopping Training of Model 2\n",
      "\u001b[2m\u001b[36m(MBMPO pid=20887)\u001b[0m Training Dynamics Ensemble - Epoch #126:Train loss: 0.0026611562 2.1966935e-05 0.0004019157 8.207286e-05 3.3963628e-05, Valid Loss: 0.0025713367 3.493975e-05 0.0003489366 8.85979e-05 0.0001013198,  Moving Avg Valid Loss: 0.0024185614 0.0003881341 0.0002699782 0.0002722865 0.00036075158\n",
      "\u001b[2m\u001b[36m(MBMPO pid=20887)\u001b[0m Training Dynamics Ensemble - Epoch #127:Train loss: 0.002416736 1.101893e-05 0.00031421438 6.391769e-05 6.189134e-05, Valid Loss: 0.0025713367 2.5782581e-05 0.0003489366 9.463586e-05 9.742779e-05,  Moving Avg Valid Loss: 0.0024262 0.00037001653 0.00027392613 0.00026340396 0.0003475854\n",
      "\u001b[2m\u001b[36m(MBMPO pid=20887)\u001b[0m Training Dynamics Ensemble - Epoch #128:Train loss: 0.0020838096 2.4426128e-05 0.00037553345 3.6383124e-05 2.9642186e-05, Valid Loss: 0.0025713367 5.561303e-05 0.0003489366 2.8589675e-05 5.1188075e-05,  Moving Avg Valid Loss: 0.0024334567 0.00035429632 0.00027767662 0.00025166324 0.0003327655\n",
      "\u001b[2m\u001b[36m(MBMPO pid=20887)\u001b[0m Training Dynamics Ensemble - Epoch #129:Train loss: 0.002253116 1.8712628e-05 0.000235001 3.6441284e-05 4.3252057e-05, Valid Loss: 0.0025713367 2.975483e-05 0.0003489366 4.739955e-05 3.1234198e-05,  Moving Avg Valid Loss: 0.0024403506 0.00033806922 0.00028123963 0.00024145005 0.00031768894\n",
      "\u001b[2m\u001b[36m(MBMPO pid=20887)\u001b[0m Training Dynamics Ensemble - Epoch #130:Train loss: 0.0021119833 2.7783324e-05 0.00025755362 4.318861e-05 2.6719064e-05, Valid Loss: 0.0025713367 3.72791e-05 0.0003489366 8.780445e-05 6.0822345e-05,  Moving Avg Valid Loss: 0.0024469 0.0003230297 0.00028462446 0.00023376777 0.0003048456\n",
      "\u001b[2m\u001b[36m(MBMPO pid=20887)\u001b[0m Training Dynamics Ensemble - Epoch #131:Train loss: 0.0021876816 4.1807318e-05 0.00025367126 3.2803735e-05 2.19315e-05, Valid Loss: 0.0025713367 8.382601e-05 0.0003489366 4.048495e-05 5.6341323e-05,  Moving Avg Valid Loss: 0.0024531216 0.0003110695 0.00028784008 0.00022410363 0.0002924204\n",
      "\u001b[2m\u001b[36m(MBMPO pid=20887)\u001b[0m Training Dynamics Ensemble - Epoch #132:Train loss: 0.0019316904 1.7919221e-05 0.0002989097 0.00011544744 7.010328e-05, Valid Loss: 0.0025713367 2.3022807e-05 0.0003489366 0.00012572766 0.00027213688,  Moving Avg Valid Loss: 0.0024590322 0.0002966672 0.00029089488 0.00021918483 0.0002914062\n",
      "\u001b[2m\u001b[36m(MBMPO pid=20887)\u001b[0m Training Dynamics Ensemble - Epoch #133:Train loss: 0.002455812 1.4856068e-05 0.00035015753 0.00035069708 0.00010906868, Valid Loss: 0.0025713367 1.75713e-05 0.0003489366 0.00025785636 0.00011491595,  Moving Avg Valid Loss: 0.0024646474 0.0002827124 0.00029379694 0.0002211184 0.0002825817\n",
      "\u001b[2m\u001b[36m(MBMPO pid=20887)\u001b[0m Stopping Training of Model 3\n",
      "\u001b[2m\u001b[36m(MBMPO pid=20887)\u001b[0m Training Dynamics Ensemble - Epoch #134:Train loss: 0.0024827 5.011151e-05 0.0003788259 0.00020364397 0.00011450944, Valid Loss: 0.0025713367 3.549231e-05 0.0003489366 0.00025785636 6.5848726e-05,  Moving Avg Valid Loss: 0.0024699818 0.0002703514 0.00029655395 0.0002229553 0.00027174503\n",
      "\u001b[2m\u001b[36m(MBMPO pid=20887)\u001b[0m Training Dynamics Ensemble - Epoch #135:Train loss: 0.0023308515 2.4990879e-05 0.00027066658 0.0002771576 9.881207e-05, Valid Loss: 0.0025713367 2.730781e-05 0.0003489366 0.00025785636 6.923146e-05,  Moving Avg Valid Loss: 0.0024750493 0.0002581992 0.00029917306 0.00022470036 0.00026161934\n",
      "\u001b[2m\u001b[36m(MBMPO pid=20887)\u001b[0m Training Dynamics Ensemble - Epoch #136:Train loss: 0.0026579548 2.777556e-05 0.00033484338 0.00021973124 7.173994e-05, Valid Loss: 0.0025713367 3.1413038e-05 0.0003489366 0.00025785636 6.404308e-05,  Moving Avg Valid Loss: 0.0024798636 0.00024685988 0.0003016612 0.00022635816 0.0002517405\n",
      "\u001b[2m\u001b[36m(MBMPO pid=20887)\u001b[0m Training Dynamics Ensemble - Epoch #137:Train loss: 0.0022715658 2.2524557e-05 0.00028994217 0.0002356407 0.00012030871, Valid Loss: 0.0025713367 4.2903856e-05 0.0003489366 0.00025785636 0.00012478909,  Moving Avg Valid Loss: 0.002484437 0.00023666209 0.00030402496 0.00022793307 0.00024539293\n",
      "\u001b[2m\u001b[36m(MBMPO pid=20887)\u001b[0m Training Dynamics Ensemble - Epoch #138:Train loss: 0.002298142 2.7434371e-05 0.000306427 0.00021784518 0.000114723494, Valid Loss: 0.0025713367 3.384111e-05 0.0003489366 0.00025785636 4.1867163e-05,  Moving Avg Valid Loss: 0.002488782 0.00022652104 0.00030627055 0.00022942924 0.00023521663\n",
      "\u001b[2m\u001b[36m(MBMPO pid=20887)\u001b[0m Training Dynamics Ensemble - Epoch #139:Train loss: 0.0022066042 1.0261111e-05 0.00044295797 0.0002011576 8.481948e-05, Valid Loss: 0.0025713367 1.989455e-05 0.0003489366 0.00025785636 0.00014220382,  Moving Avg Valid Loss: 0.0024929096 0.0002161897 0.00030840386 0.0002308506 0.000230566\n",
      "\u001b[2m\u001b[36m(MBMPO pid=20887)\u001b[0m Training Dynamics Ensemble - Epoch #140:Train loss: 0.0023671002 6.7783294e-05 0.00022869729 0.00023178209 0.000120646255, Valid Loss: 0.0025713367 5.228967e-05 0.0003489366 0.00025785636 0.000112157126,  Moving Avg Valid Loss: 0.002496831 0.0002079947 0.00031043048 0.00023220088 0.00022464556\n",
      "\u001b[2m\u001b[36m(MBMPO pid=20887)\u001b[0m Training Dynamics Ensemble - Epoch #141:Train loss: 0.002333235 9.759215e-05 0.00024820518 0.00022031557 2.2517976e-05, Valid Loss: 0.0025713367 0.00015114494 0.0003489366 0.00025785636 5.771267e-05,  Moving Avg Valid Loss: 0.0025005562 0.0002051522 0.00031235575 0.00023348366 0.00021629891\n",
      "\u001b[2m\u001b[36m(MBMPO pid=20887)\u001b[0m Training Dynamics Ensemble - Epoch #142:Train loss: 0.0027171476 0.00018949003 0.00024662015 0.00027421786 8.344472e-05, Valid Loss: 0.0025713367 0.000111659094 0.0003489366 0.00025785636 0.0001165243,  Moving Avg Valid Loss: 0.0025040952 0.00020047755 0.0003141848 0.0002347023 0.00021131017\n",
      "\u001b[2m\u001b[36m(MBMPO pid=20887)\u001b[0m Training Dynamics Ensemble - Epoch #143:Train loss: 0.0025652535 0.0002818303 0.00037803288 0.00023521851 4.5629302e-05, Valid Loss: 0.0025713367 0.00026270765 0.0003489366 0.00025785636 2.8578743e-05,  Moving Avg Valid Loss: 0.0025074573 0.00020358905 0.00031592237 0.00023586 0.0002021736\n",
      "\u001b[2m\u001b[36m(MBMPO pid=20887)\u001b[0m Stopping Training of Model 1\n",
      "\u001b[2m\u001b[36m(MBMPO pid=20887)\u001b[0m Training Dynamics Ensemble - Epoch #144:Train loss: 0.002463546 0.0002737593 0.00022660928 0.00023648642 2.4735711e-05, Valid Loss: 0.0025713367 0.00026270765 0.0003489366 0.00025785636 7.466988e-05,  Moving Avg Valid Loss: 0.0025106512 0.00020654498 0.00031757308 0.00023695982 0.00019579842\n",
      "\u001b[2m\u001b[36m(MBMPO pid=20887)\u001b[0m Training Dynamics Ensemble - Epoch #145:Train loss: 0.0018330481 0.00027362988 0.00026750698 0.00023383339 0.000100271805, Valid Loss: 0.0025713367 0.00026270765 0.0003489366 0.00025785636 0.00010689668,  Moving Avg Valid Loss: 0.0025136855 0.00020935312 0.00031914125 0.00023800465 0.00019135333\n",
      "\u001b[2m\u001b[36m(MBMPO pid=20887)\u001b[0m Training Dynamics Ensemble - Epoch #146:Train loss: 0.0018444306 0.00025643318 0.00026122478 0.00019910443 2.5917168e-05, Valid Loss: 0.0025713367 0.00026270765 0.0003489366 0.00025785636 3.793947e-05,  Moving Avg Valid Loss: 0.002516568 0.00021202085 0.00032063102 0.00023899724 0.00018368264\n",
      "\u001b[2m\u001b[36m(MBMPO pid=20887)\u001b[0m Training Dynamics Ensemble - Epoch #147:Train loss: 0.002405085 0.00025606094 0.00024152704 0.00022766199 1.4797537e-05, Valid Loss: 0.0025713367 0.00026270765 0.0003489366 0.00025785636 3.3701483e-05,  Moving Avg Valid Loss: 0.0025193063 0.0002145552 0.00032204628 0.0002399402 0.00017618357\n",
      "\u001b[2m\u001b[36m(MBMPO pid=20887)\u001b[0m Training Dynamics Ensemble - Epoch #148:Train loss: 0.0024994854 0.00024225235 0.00028366206 0.00026637973 2.1989412e-05, Valid Loss: 0.0025713367 0.00026270765 0.0003489366 0.00025785636 4.308956e-05,  Moving Avg Valid Loss: 0.0025219077 0.00021696283 0.00032339082 0.00024083602 0.00016952888\n",
      "\u001b[2m\u001b[36m(MBMPO pid=20887)\u001b[0m Training Dynamics Ensemble - Epoch #149:Train loss: 0.0025422927 0.00025074705 0.00036407314 0.00025917543 2.7808182e-05, Valid Loss: 0.0025713367 0.00026270765 0.0003489366 0.00025785636 6.174651e-05,  Moving Avg Valid Loss: 0.002524379 0.00021925007 0.00032466813 0.00024168704 0.00016413975\n",
      "\u001b[2m\u001b[36m(MBMPO pid=20887)\u001b[0m Training Dynamics Ensemble - Epoch #150:Train loss: 0.0022189294 0.0003022634 0.00036266402 0.00017473052 4.188016e-05, Valid Loss: 0.0025713367 0.00026270765 0.0003489366 0.00025785636 2.1637457e-05,  Moving Avg Valid Loss: 0.0025267268 0.00022142295 0.00032588153 0.0002424955 0.00015701464\n",
      "\u001b[2m\u001b[36m(MBMPO pid=20887)\u001b[0m Training Dynamics Ensemble - Epoch #151:Train loss: 0.002417732 0.0002582059 0.00026186474 0.00023155013 8.3949286e-05, Valid Loss: 0.0025713367 0.00026270765 0.0003489366 0.00025785636 5.1857518e-05,  Moving Avg Valid Loss: 0.002528957 0.00022348718 0.00032703427 0.00024326355 0.00015175679\n",
      "\u001b[2m\u001b[36m(MBMPO pid=20887)\u001b[0m Training Dynamics Ensemble - Epoch #152:Train loss: 0.002542318 0.00023817505 0.00038070147 0.00026360556 0.0001609332, Valid Loss: 0.0025713367 0.00026270765 0.0003489366 0.00025785636 8.9466295e-05,  Moving Avg Valid Loss: 0.0025310759 0.00022544821 0.0003281294 0.0002439932 0.00014864227\n",
      "\u001b[2m\u001b[36m(MBMPO pid=20887)\u001b[0m Training Dynamics Ensemble - Epoch #153:Train loss: 0.002390076 0.0002493794 0.00039561966 0.0001936653 0.00037996675, Valid Loss: 0.0025713367 0.00026270765 0.0003489366 0.00025785636 0.00046651348,  Moving Avg Valid Loss: 0.0025330887 0.00022731119 0.00032916974 0.00024468635 0.00016453583\n",
      "\u001b[2m\u001b[36m(MBMPO pid=20887)\u001b[0m Stopping Training of Model 4\n"
     ]
    },
    {
     "name": "stderr",
     "output_type": "stream",
     "text": [
      "\u001b[2m\u001b[36m(MBMPO pid=20887)\u001b[0m 2022-08-20 13:09:23,542\tINFO trainable.py:160 -- Trainable.setup took 256.428 seconds. If your trainable is slow to initialize, consider setting reuse_actors=True to reduce actor creation overheads.\n",
      "\u001b[2m\u001b[36m(MBMPO pid=20887)\u001b[0m 2022-08-20 13:09:23,542\tWARNING util.py:65 -- Install gputil for GPU system monitoring.\n",
      "\u001b[2m\u001b[36m(RolloutWorker pid=20921)\u001b[0m 2022-08-20 13:09:26,502\tWARNING deprecation.py:47 -- DeprecationWarning: `concat_samples` has been deprecated. Use `concat_samples() from rllib.policy.sample_batch` instead. This will raise an error in the future!\n"
     ]
    },
    {
     "name": "stdout",
     "output_type": "stream",
     "text": [
      "\u001b[2m\u001b[36m(MBMPO pid=20887)\u001b[0m Collecting Samples, Inner Adaptation 0\n"
     ]
    },
    {
     "name": "stderr",
     "output_type": "stream",
     "text": [
      "\u001b[2m\u001b[36m(MBMPO pid=20887)\u001b[0m /home/ajit/anaconda3/envs/rllib/lib/python3.9/site-packages/ray/rllib/algorithms/mbmpo/utils.py:36: FutureWarning: `rcond` parameter will change to the default of machine precision times ``max(M, N)`` where M and N are the input matrix dimensions.\n",
      "\u001b[2m\u001b[36m(MBMPO pid=20887)\u001b[0m To use the future default and silence this warning we advise to pass `rcond=None`, to keep using the old, explicitly pass `rcond=-1`.\n",
      "\u001b[2m\u001b[36m(MBMPO pid=20887)\u001b[0m   self._coeffs = np.linalg.lstsq(\n"
     ]
    },
    {
     "name": "stdout",
     "output_type": "stream",
     "text": [
      "\u001b[2m\u001b[36m(MBMPO pid=20887)\u001b[0m Collecting Samples, Inner Adaptation 1\n",
      "\u001b[2m\u001b[36m(MBMPO pid=20887)\u001b[0m Meta-Update Step\n",
      "\u001b[2m\u001b[36m(MBMPO pid=20887)\u001b[0m MAML Iteration 0 Completed\n",
      "\u001b[2m\u001b[36m(MBMPO pid=20887)\u001b[0m Syncing Weights with Workers\n",
      "\u001b[2m\u001b[36m(MBMPO pid=20887)\u001b[0m Collecting Samples, Inner Adaptation 0\n"
     ]
    },
    {
     "name": "stderr",
     "output_type": "stream",
     "text": [
      "\u001b[2m\u001b[36m(MBMPO pid=20887)\u001b[0m /home/ajit/anaconda3/envs/rllib/lib/python3.9/site-packages/ray/rllib/algorithms/mbmpo/utils.py:36: FutureWarning: `rcond` parameter will change to the default of machine precision times ``max(M, N)`` where M and N are the input matrix dimensions.\n",
      "\u001b[2m\u001b[36m(MBMPO pid=20887)\u001b[0m To use the future default and silence this warning we advise to pass `rcond=None`, to keep using the old, explicitly pass `rcond=-1`.\n",
      "\u001b[2m\u001b[36m(MBMPO pid=20887)\u001b[0m   self._coeffs = np.linalg.lstsq(\n"
     ]
    },
    {
     "name": "stdout",
     "output_type": "stream",
     "text": [
      "\u001b[2m\u001b[36m(MBMPO pid=20887)\u001b[0m Collecting Samples, Inner Adaptation 1\n",
      "\u001b[2m\u001b[36m(MBMPO pid=20887)\u001b[0m Meta-Update Step\n",
      "\u001b[2m\u001b[36m(MBMPO pid=20887)\u001b[0m MAML Iteration 1 Completed\n",
      "\u001b[2m\u001b[36m(MBMPO pid=20887)\u001b[0m Syncing Weights with Workers\n",
      "\u001b[2m\u001b[36m(MBMPO pid=20887)\u001b[0m Collecting Samples, Inner Adaptation 0\n"
     ]
    },
    {
     "name": "stderr",
     "output_type": "stream",
     "text": [
      "\u001b[2m\u001b[36m(MBMPO pid=20887)\u001b[0m /home/ajit/anaconda3/envs/rllib/lib/python3.9/site-packages/ray/rllib/algorithms/mbmpo/utils.py:36: FutureWarning: `rcond` parameter will change to the default of machine precision times ``max(M, N)`` where M and N are the input matrix dimensions.\n",
      "\u001b[2m\u001b[36m(MBMPO pid=20887)\u001b[0m To use the future default and silence this warning we advise to pass `rcond=None`, to keep using the old, explicitly pass `rcond=-1`.\n",
      "\u001b[2m\u001b[36m(MBMPO pid=20887)\u001b[0m   self._coeffs = np.linalg.lstsq(\n"
     ]
    },
    {
     "name": "stdout",
     "output_type": "stream",
     "text": [
      "\u001b[2m\u001b[36m(MBMPO pid=20887)\u001b[0m Collecting Samples, Inner Adaptation 1\n",
      "\u001b[2m\u001b[36m(MBMPO pid=20887)\u001b[0m Meta-Update Step\n",
      "\u001b[2m\u001b[36m(MBMPO pid=20887)\u001b[0m MAML Iteration 2 Completed\n",
      "\u001b[2m\u001b[36m(MBMPO pid=20887)\u001b[0m Syncing Weights with Workers\n",
      "\u001b[2m\u001b[36m(MBMPO pid=20887)\u001b[0m Collecting Samples, Inner Adaptation 0\n"
     ]
    },
    {
     "name": "stderr",
     "output_type": "stream",
     "text": [
      "\u001b[2m\u001b[36m(MBMPO pid=20887)\u001b[0m /home/ajit/anaconda3/envs/rllib/lib/python3.9/site-packages/ray/rllib/algorithms/mbmpo/utils.py:36: FutureWarning: `rcond` parameter will change to the default of machine precision times ``max(M, N)`` where M and N are the input matrix dimensions.\n",
      "\u001b[2m\u001b[36m(MBMPO pid=20887)\u001b[0m To use the future default and silence this warning we advise to pass `rcond=None`, to keep using the old, explicitly pass `rcond=-1`.\n",
      "\u001b[2m\u001b[36m(MBMPO pid=20887)\u001b[0m   self._coeffs = np.linalg.lstsq(\n"
     ]
    },
    {
     "name": "stdout",
     "output_type": "stream",
     "text": [
      "\u001b[2m\u001b[36m(MBMPO pid=20887)\u001b[0m Collecting Samples, Inner Adaptation 1\n",
      "\u001b[2m\u001b[36m(MBMPO pid=20887)\u001b[0m Meta-Update Step\n",
      "\u001b[2m\u001b[36m(MBMPO pid=20887)\u001b[0m MAML Iteration 3 Completed\n",
      "\u001b[2m\u001b[36m(MBMPO pid=20887)\u001b[0m Syncing Weights with Workers\n",
      "\u001b[2m\u001b[36m(MBMPO pid=20887)\u001b[0m Collecting Samples, Inner Adaptation 0\n"
     ]
    },
    {
     "name": "stderr",
     "output_type": "stream",
     "text": [
      "\u001b[2m\u001b[36m(MBMPO pid=20887)\u001b[0m /home/ajit/anaconda3/envs/rllib/lib/python3.9/site-packages/ray/rllib/algorithms/mbmpo/utils.py:36: FutureWarning: `rcond` parameter will change to the default of machine precision times ``max(M, N)`` where M and N are the input matrix dimensions.\n",
      "\u001b[2m\u001b[36m(MBMPO pid=20887)\u001b[0m To use the future default and silence this warning we advise to pass `rcond=None`, to keep using the old, explicitly pass `rcond=-1`.\n",
      "\u001b[2m\u001b[36m(MBMPO pid=20887)\u001b[0m   self._coeffs = np.linalg.lstsq(\n"
     ]
    },
    {
     "name": "stdout",
     "output_type": "stream",
     "text": [
      "\u001b[2m\u001b[36m(MBMPO pid=20887)\u001b[0m Collecting Samples, Inner Adaptation 1\n",
      "\u001b[2m\u001b[36m(MBMPO pid=20887)\u001b[0m Meta-Update Step\n",
      "\u001b[2m\u001b[36m(MBMPO pid=20887)\u001b[0m MAML Iteration 4 Completed\n",
      "\u001b[2m\u001b[36m(MBMPO pid=20887)\u001b[0m Syncing Weights with Workers\n",
      "\u001b[2m\u001b[36m(MBMPO pid=20887)\u001b[0m Collecting Samples, Inner Adaptation 0\n"
     ]
    },
    {
     "name": "stderr",
     "output_type": "stream",
     "text": [
      "\u001b[2m\u001b[36m(MBMPO pid=20887)\u001b[0m /home/ajit/anaconda3/envs/rllib/lib/python3.9/site-packages/ray/rllib/algorithms/mbmpo/utils.py:36: FutureWarning: `rcond` parameter will change to the default of machine precision times ``max(M, N)`` where M and N are the input matrix dimensions.\n",
      "\u001b[2m\u001b[36m(MBMPO pid=20887)\u001b[0m To use the future default and silence this warning we advise to pass `rcond=None`, to keep using the old, explicitly pass `rcond=-1`.\n",
      "\u001b[2m\u001b[36m(MBMPO pid=20887)\u001b[0m   self._coeffs = np.linalg.lstsq(\n"
     ]
    },
    {
     "name": "stdout",
     "output_type": "stream",
     "text": [
      "\u001b[2m\u001b[36m(MBMPO pid=20887)\u001b[0m Collecting Samples, Inner Adaptation 1\n",
      "\u001b[2m\u001b[36m(MBMPO pid=20887)\u001b[0m Meta-Update Step\n",
      "\u001b[2m\u001b[36m(MBMPO pid=20887)\u001b[0m MAML Iteration 5 Completed\n",
      "\u001b[2m\u001b[36m(MBMPO pid=20887)\u001b[0m Syncing Weights with Workers\n",
      "\u001b[2m\u001b[36m(MBMPO pid=20887)\u001b[0m Collecting Samples, Inner Adaptation 0\n"
     ]
    },
    {
     "name": "stderr",
     "output_type": "stream",
     "text": [
      "\u001b[2m\u001b[36m(MBMPO pid=20887)\u001b[0m /home/ajit/anaconda3/envs/rllib/lib/python3.9/site-packages/ray/rllib/algorithms/mbmpo/utils.py:36: FutureWarning: `rcond` parameter will change to the default of machine precision times ``max(M, N)`` where M and N are the input matrix dimensions.\n",
      "\u001b[2m\u001b[36m(MBMPO pid=20887)\u001b[0m To use the future default and silence this warning we advise to pass `rcond=None`, to keep using the old, explicitly pass `rcond=-1`.\n",
      "\u001b[2m\u001b[36m(MBMPO pid=20887)\u001b[0m   self._coeffs = np.linalg.lstsq(\n"
     ]
    },
    {
     "name": "stdout",
     "output_type": "stream",
     "text": [
      "\u001b[2m\u001b[36m(MBMPO pid=20887)\u001b[0m Collecting Samples, Inner Adaptation 1\n",
      "\u001b[2m\u001b[36m(MBMPO pid=20887)\u001b[0m Meta-Update Step\n",
      "\u001b[2m\u001b[36m(MBMPO pid=20887)\u001b[0m MAML Iteration 6 Completed\n",
      "\u001b[2m\u001b[36m(MBMPO pid=20887)\u001b[0m Syncing Weights with Workers\n",
      "\u001b[2m\u001b[36m(MBMPO pid=20887)\u001b[0m Collecting Samples, Inner Adaptation 0\n"
     ]
    },
    {
     "name": "stderr",
     "output_type": "stream",
     "text": [
      "\u001b[2m\u001b[36m(MBMPO pid=20887)\u001b[0m /home/ajit/anaconda3/envs/rllib/lib/python3.9/site-packages/ray/rllib/algorithms/mbmpo/utils.py:36: FutureWarning: `rcond` parameter will change to the default of machine precision times ``max(M, N)`` where M and N are the input matrix dimensions.\n",
      "\u001b[2m\u001b[36m(MBMPO pid=20887)\u001b[0m To use the future default and silence this warning we advise to pass `rcond=None`, to keep using the old, explicitly pass `rcond=-1`.\n",
      "\u001b[2m\u001b[36m(MBMPO pid=20887)\u001b[0m   self._coeffs = np.linalg.lstsq(\n"
     ]
    },
    {
     "name": "stdout",
     "output_type": "stream",
     "text": [
      "\u001b[2m\u001b[36m(MBMPO pid=20887)\u001b[0m Collecting Samples, Inner Adaptation 1\n",
      "\u001b[2m\u001b[36m(MBMPO pid=20887)\u001b[0m Meta-Update Step\n",
      "\u001b[2m\u001b[36m(MBMPO pid=20887)\u001b[0m MAML Iteration 7 Completed\n",
      "\u001b[2m\u001b[36m(MBMPO pid=20887)\u001b[0m Syncing Weights with Workers\n",
      "\u001b[2m\u001b[36m(MBMPO pid=20887)\u001b[0m Collecting Samples, Inner Adaptation 0\n"
     ]
    },
    {
     "name": "stderr",
     "output_type": "stream",
     "text": [
      "\u001b[2m\u001b[36m(MBMPO pid=20887)\u001b[0m /home/ajit/anaconda3/envs/rllib/lib/python3.9/site-packages/ray/rllib/algorithms/mbmpo/utils.py:36: FutureWarning: `rcond` parameter will change to the default of machine precision times ``max(M, N)`` where M and N are the input matrix dimensions.\n",
      "\u001b[2m\u001b[36m(MBMPO pid=20887)\u001b[0m To use the future default and silence this warning we advise to pass `rcond=None`, to keep using the old, explicitly pass `rcond=-1`.\n",
      "\u001b[2m\u001b[36m(MBMPO pid=20887)\u001b[0m   self._coeffs = np.linalg.lstsq(\n"
     ]
    },
    {
     "name": "stdout",
     "output_type": "stream",
     "text": [
      "\u001b[2m\u001b[36m(MBMPO pid=20887)\u001b[0m Collecting Samples, Inner Adaptation 1\n",
      "\u001b[2m\u001b[36m(MBMPO pid=20887)\u001b[0m Meta-Update Step\n",
      "\u001b[2m\u001b[36m(MBMPO pid=20887)\u001b[0m MAML Iteration 8 Completed\n",
      "\u001b[2m\u001b[36m(MBMPO pid=20887)\u001b[0m Syncing Weights with Workers\n",
      "\u001b[2m\u001b[36m(MBMPO pid=20887)\u001b[0m Collecting Samples, Inner Adaptation 0\n"
     ]
    },
    {
     "name": "stderr",
     "output_type": "stream",
     "text": [
      "\u001b[2m\u001b[36m(MBMPO pid=20887)\u001b[0m /home/ajit/anaconda3/envs/rllib/lib/python3.9/site-packages/ray/rllib/algorithms/mbmpo/utils.py:36: FutureWarning: `rcond` parameter will change to the default of machine precision times ``max(M, N)`` where M and N are the input matrix dimensions.\n",
      "\u001b[2m\u001b[36m(MBMPO pid=20887)\u001b[0m To use the future default and silence this warning we advise to pass `rcond=None`, to keep using the old, explicitly pass `rcond=-1`.\n",
      "\u001b[2m\u001b[36m(MBMPO pid=20887)\u001b[0m   self._coeffs = np.linalg.lstsq(\n"
     ]
    },
    {
     "name": "stdout",
     "output_type": "stream",
     "text": [
      "\u001b[2m\u001b[36m(MBMPO pid=20887)\u001b[0m Collecting Samples, Inner Adaptation 1\n",
      "\u001b[2m\u001b[36m(MBMPO pid=20887)\u001b[0m Meta-Update Step\n",
      "\u001b[2m\u001b[36m(MBMPO pid=20887)\u001b[0m MAML Iteration 9 Completed\n",
      "\u001b[2m\u001b[36m(MBMPO pid=20887)\u001b[0m Syncing Weights with Workers\n",
      "\u001b[2m\u001b[36m(MBMPO pid=20887)\u001b[0m Collecting Samples, Inner Adaptation 0\n"
     ]
    },
    {
     "name": "stderr",
     "output_type": "stream",
     "text": [
      "\u001b[2m\u001b[36m(MBMPO pid=20887)\u001b[0m /home/ajit/anaconda3/envs/rllib/lib/python3.9/site-packages/ray/rllib/algorithms/mbmpo/utils.py:36: FutureWarning: `rcond` parameter will change to the default of machine precision times ``max(M, N)`` where M and N are the input matrix dimensions.\n",
      "\u001b[2m\u001b[36m(MBMPO pid=20887)\u001b[0m To use the future default and silence this warning we advise to pass `rcond=None`, to keep using the old, explicitly pass `rcond=-1`.\n",
      "\u001b[2m\u001b[36m(MBMPO pid=20887)\u001b[0m   self._coeffs = np.linalg.lstsq(\n"
     ]
    },
    {
     "name": "stdout",
     "output_type": "stream",
     "text": [
      "\u001b[2m\u001b[36m(MBMPO pid=20887)\u001b[0m Collecting Samples, Inner Adaptation 1\n",
      "\u001b[2m\u001b[36m(MBMPO pid=20887)\u001b[0m Meta-Update Step\n",
      "\u001b[2m\u001b[36m(MBMPO pid=20887)\u001b[0m MAML Iteration 10 Completed\n",
      "\u001b[2m\u001b[36m(MBMPO pid=20887)\u001b[0m Syncing Weights with Workers\n",
      "\u001b[2m\u001b[36m(MBMPO pid=20887)\u001b[0m Collecting Samples, Inner Adaptation 0\n"
     ]
    },
    {
     "name": "stderr",
     "output_type": "stream",
     "text": [
      "\u001b[2m\u001b[36m(MBMPO pid=20887)\u001b[0m /home/ajit/anaconda3/envs/rllib/lib/python3.9/site-packages/ray/rllib/algorithms/mbmpo/utils.py:36: FutureWarning: `rcond` parameter will change to the default of machine precision times ``max(M, N)`` where M and N are the input matrix dimensions.\n",
      "\u001b[2m\u001b[36m(MBMPO pid=20887)\u001b[0m To use the future default and silence this warning we advise to pass `rcond=None`, to keep using the old, explicitly pass `rcond=-1`.\n",
      "\u001b[2m\u001b[36m(MBMPO pid=20887)\u001b[0m   self._coeffs = np.linalg.lstsq(\n"
     ]
    },
    {
     "name": "stdout",
     "output_type": "stream",
     "text": [
      "\u001b[2m\u001b[36m(MBMPO pid=20887)\u001b[0m Collecting Samples, Inner Adaptation 1\n",
      "\u001b[2m\u001b[36m(MBMPO pid=20887)\u001b[0m Meta-Update Step\n",
      "\u001b[2m\u001b[36m(MBMPO pid=20887)\u001b[0m MAML Iteration 11 Completed\n",
      "\u001b[2m\u001b[36m(MBMPO pid=20887)\u001b[0m Syncing Weights with Workers\n",
      "\u001b[2m\u001b[36m(MBMPO pid=20887)\u001b[0m Collecting Samples, Inner Adaptation 0\n"
     ]
    },
    {
     "name": "stderr",
     "output_type": "stream",
     "text": [
      "\u001b[2m\u001b[36m(MBMPO pid=20887)\u001b[0m /home/ajit/anaconda3/envs/rllib/lib/python3.9/site-packages/ray/rllib/algorithms/mbmpo/utils.py:36: FutureWarning: `rcond` parameter will change to the default of machine precision times ``max(M, N)`` where M and N are the input matrix dimensions.\n",
      "\u001b[2m\u001b[36m(MBMPO pid=20887)\u001b[0m To use the future default and silence this warning we advise to pass `rcond=None`, to keep using the old, explicitly pass `rcond=-1`.\n",
      "\u001b[2m\u001b[36m(MBMPO pid=20887)\u001b[0m   self._coeffs = np.linalg.lstsq(\n"
     ]
    },
    {
     "name": "stdout",
     "output_type": "stream",
     "text": [
      "\u001b[2m\u001b[36m(MBMPO pid=20887)\u001b[0m Collecting Samples, Inner Adaptation 1\n",
      "\u001b[2m\u001b[36m(MBMPO pid=20887)\u001b[0m Meta-Update Step\n",
      "\u001b[2m\u001b[36m(MBMPO pid=20887)\u001b[0m MAML Iteration 12 Completed\n",
      "\u001b[2m\u001b[36m(MBMPO pid=20887)\u001b[0m Syncing Weights with Workers\n",
      "\u001b[2m\u001b[36m(MBMPO pid=20887)\u001b[0m Collecting Samples, Inner Adaptation 0\n"
     ]
    },
    {
     "name": "stderr",
     "output_type": "stream",
     "text": [
      "\u001b[2m\u001b[36m(MBMPO pid=20887)\u001b[0m /home/ajit/anaconda3/envs/rllib/lib/python3.9/site-packages/ray/rllib/algorithms/mbmpo/utils.py:36: FutureWarning: `rcond` parameter will change to the default of machine precision times ``max(M, N)`` where M and N are the input matrix dimensions.\n",
      "\u001b[2m\u001b[36m(MBMPO pid=20887)\u001b[0m To use the future default and silence this warning we advise to pass `rcond=None`, to keep using the old, explicitly pass `rcond=-1`.\n",
      "\u001b[2m\u001b[36m(MBMPO pid=20887)\u001b[0m   self._coeffs = np.linalg.lstsq(\n"
     ]
    },
    {
     "name": "stdout",
     "output_type": "stream",
     "text": [
      "\u001b[2m\u001b[36m(MBMPO pid=20887)\u001b[0m Collecting Samples, Inner Adaptation 1\n",
      "\u001b[2m\u001b[36m(MBMPO pid=20887)\u001b[0m Meta-Update Step\n",
      "\u001b[2m\u001b[36m(MBMPO pid=20887)\u001b[0m MAML Iteration 13 Completed\n",
      "\u001b[2m\u001b[36m(MBMPO pid=20887)\u001b[0m Syncing Weights with Workers\n",
      "\u001b[2m\u001b[36m(MBMPO pid=20887)\u001b[0m Collecting Samples, Inner Adaptation 0\n"
     ]
    },
    {
     "name": "stderr",
     "output_type": "stream",
     "text": [
      "\u001b[2m\u001b[36m(MBMPO pid=20887)\u001b[0m /home/ajit/anaconda3/envs/rllib/lib/python3.9/site-packages/ray/rllib/algorithms/mbmpo/utils.py:36: FutureWarning: `rcond` parameter will change to the default of machine precision times ``max(M, N)`` where M and N are the input matrix dimensions.\n",
      "\u001b[2m\u001b[36m(MBMPO pid=20887)\u001b[0m To use the future default and silence this warning we advise to pass `rcond=None`, to keep using the old, explicitly pass `rcond=-1`.\n",
      "\u001b[2m\u001b[36m(MBMPO pid=20887)\u001b[0m   self._coeffs = np.linalg.lstsq(\n"
     ]
    },
    {
     "name": "stdout",
     "output_type": "stream",
     "text": [
      "\u001b[2m\u001b[36m(MBMPO pid=20887)\u001b[0m Collecting Samples, Inner Adaptation 1\n",
      "\u001b[2m\u001b[36m(MBMPO pid=20887)\u001b[0m Meta-Update Step\n",
      "\u001b[2m\u001b[36m(MBMPO pid=20887)\u001b[0m Training Dynamics Ensemble - Epoch #0:Train loss: 0.001029558 0.0004595996 0.00042489378 0.00029386158 0.00012491141, Valid Loss: 0.00025058293 0.00056599145 0.0002953555 0.00032421143 0.00016406967,  Moving Avg Valid Loss: 0.00036960983 0.0008348373 0.00043564936 0.00047821185 0.00024200274\n",
      "\u001b[2m\u001b[36m(MBMPO pid=20887)\u001b[0m Training Dynamics Ensemble - Epoch #1:Train loss: 0.00010860637 0.00014697631 0.0001889875 0.0001476803 0.0002358319, Valid Loss: 0.00023886985 0.00034019776 0.00021331785 0.00021245892 0.00018781112,  Moving Avg Valid Loss: 0.00036307282 0.00081010535 0.00042453277 0.0004649242 0.00023929316\n",
      "\u001b[2m\u001b[36m(MBMPO pid=20887)\u001b[0m Training Dynamics Ensemble - Epoch #2:Train loss: 6.2692176e-05 0.00012480511 4.430501e-05 0.0005926275 0.00015525006, Valid Loss: 5.8524325e-05 0.0001621229 7.60256e-05 0.00032597338 0.00012009193,  Moving Avg Valid Loss: 0.0003478454 0.0007777063 0.0004071074 0.00045797665 0.0002333331\n",
      "\u001b[2m\u001b[36m(MBMPO pid=20887)\u001b[0m Training Dynamics Ensemble - Epoch #3:Train loss: 4.0253017e-05 6.0493076e-05 7.115284e-05 0.00010685254 0.00014105314, Valid Loss: 3.3872795e-05 8.175699e-05 9.38084e-05 4.2672535e-05 0.00018805596,  Moving Avg Valid Loss: 0.00033214677 0.0007429088 0.00039144247 0.00043721145 0.00023106924\n",
      "\u001b[2m\u001b[36m(MBMPO pid=20887)\u001b[0m Training Dynamics Ensemble - Epoch #4:Train loss: 3.298841e-05 6.140318e-05 8.745115e-05 3.0020794e-05 5.1003393e-05, Valid Loss: 3.7356407e-05 5.914148e-05 0.00010115672 2.959759e-05 6.793336e-05,  Moving Avg Valid Loss: 0.00031740725 0.0007087204 0.0003769282 0.00041683074 0.00022291244\n",
      "\u001b[2m\u001b[36m(MBMPO pid=20887)\u001b[0m Training Dynamics Ensemble - Epoch #5:Train loss: 2.2528686e-05 3.976655e-05 3.2248805e-05 2.1626092e-05 1.8894514e-05, Valid Loss: 2.3568928e-05 4.0177918e-05 3.0801064e-05 2.5956446e-05 2.3668912e-05,  Moving Avg Valid Loss: 0.0003027153 0.0006752933 0.00035962183 0.00039728702 0.00021295027\n",
      "\u001b[2m\u001b[36m(MBMPO pid=20887)\u001b[0m Training Dynamics Ensemble - Epoch #6:Train loss: 3.9309005e-05 2.6728394e-05 5.3569747e-05 2.0400135e-05 2.6701337e-05, Valid Loss: 2.8618775e-05 2.7604707e-05 5.615067e-05 2.401211e-05 2.9512841e-05,  Moving Avg Valid Loss: 0.0002890105 0.00064290885 0.00034444826 0.00037862326 0.00020377839\n",
      "\u001b[2m\u001b[36m(MBMPO pid=20887)\u001b[0m Training Dynamics Ensemble - Epoch #7:Train loss: 2.2653365e-05 2.6486872e-05 7.52035e-05 3.248739e-05 3.317422e-05, Valid Loss: 2.1901422e-05 3.9712046e-05 8.0018115e-05 2.1358015e-05 4.8054637e-05,  Moving Avg Valid Loss: 0.00027565504 0.00061274896 0.00033122674 0.00036076 0.0001959922\n",
      "\u001b[2m\u001b[36m(MBMPO pid=20887)\u001b[0m Training Dynamics Ensemble - Epoch #8:Train loss: 2.8990877e-05 2.4991481e-05 2.8354141e-05 1.9425044e-05 0.00019232997, Valid Loss: 2.7199529e-05 2.8909139e-05 3.4134628e-05 2.3230683e-05 9.1868e-05,  Moving Avg Valid Loss: 0.00026323224 0.000583557 0.00031637214 0.00034388353 0.00019078598\n",
      "\u001b[2m\u001b[36m(MBMPO pid=20887)\u001b[0m Training Dynamics Ensemble - Epoch #9:Train loss: 1.6795708e-05 5.354368e-05 7.556376e-05 2.0599673e-05 0.00050452084, Valid Loss: 2.3130733e-05 4.825019e-05 8.483793e-05 2.362284e-05 0.00016762252,  Moving Avg Valid Loss: 0.00025122715 0.00055679167 0.00030479542 0.00032787048 0.00018962781\n",
      "\u001b[2m\u001b[36m(MBMPO pid=20887)\u001b[0m Training Dynamics Ensemble - Epoch #10:Train loss: 2.0008862e-05 0.00032183502 0.00042903324 5.9204558e-05 0.00010027776, Valid Loss: 2.9936644e-05 0.00046093296 0.00089430145 4.3665375e-05 9.051748e-05,  Moving Avg Valid Loss: 0.00024016263 0.0005519987 0.0003342707 0.00031366025 0.0001846723\n",
      "\u001b[2m\u001b[36m(MBMPO pid=20887)\u001b[0m Stopping Training of Model 2\n",
      "\u001b[2m\u001b[36m(MBMPO pid=20887)\u001b[0m Training Dynamics Ensemble - Epoch #11:Train loss: 1.3773537e-05 0.00010498078 0.00089835806 0.0008219272 9.476871e-05, Valid Loss: 1.7864615e-05 0.00012694899 0.00089430145 0.00074247184 7.461974e-05,  Moving Avg Valid Loss: 0.00022904771 0.0005307462 0.00036227223 0.00033510083 0.00017916967\n",
      "\u001b[2m\u001b[36m(MBMPO pid=20887)\u001b[0m Stopping Training of Model 3\n",
      "\u001b[2m\u001b[36m(MBMPO pid=20887)\u001b[0m Training Dynamics Ensemble - Epoch #12:Train loss: 1.8630153e-05 0.00028274243 0.0009852662 0.0007172928 5.166694e-05, Valid Loss: 1.9866766e-05 7.059384e-05 0.00089430145 0.00074247184 7.295506e-05,  Moving Avg Valid Loss: 0.00021858867 0.00050773856 0.00038887368 0.00035546938 0.00017385895\n",
      "\u001b[2m\u001b[36m(MBMPO pid=20887)\u001b[0m Training Dynamics Ensemble - Epoch #13:Train loss: 1.6859882e-05 0.00025564077 0.0009039706 0.00076068554 3.4560962e-05, Valid Loss: 2.3970455e-05 0.0002628776 0.00089430145 0.00074247184 6.418e-05,  Moving Avg Valid Loss: 0.00020885776 0.0004954955 0.00041414506 0.0003748195 0.000168375\n",
      "\u001b[2m\u001b[36m(MBMPO pid=20887)\u001b[0m Training Dynamics Ensemble - Epoch #14:Train loss: 1.6562579e-05 6.739818e-05 0.0009389966 0.0007784851 3.2262018e-05, Valid Loss: 1.9245117e-05 8.187005e-05 0.00089430145 0.00074247184 3.0057587e-05,  Moving Avg Valid Loss: 0.00019937713 0.00047481424 0.00043815287 0.00039320212 0.00016145913\n",
      "\u001b[2m\u001b[36m(MBMPO pid=20887)\u001b[0m Training Dynamics Ensemble - Epoch #15:Train loss: 1.8199282e-05 5.7725065e-05 0.00095201714 0.0007557116 3.357101e-05, Valid Loss: 2.2518298e-05 7.6797936e-05 0.00089430145 0.00074247184 4.753578e-05,  Moving Avg Valid Loss: 0.00019053418 0.00045491342 0.0004609603 0.0004106656 0.00015576297\n",
      "\u001b[2m\u001b[36m(MBMPO pid=20887)\u001b[0m Training Dynamics Ensemble - Epoch #16:Train loss: 2.1803377e-05 4.0550305e-05 0.00099737 0.00071261445 4.2556974e-05, Valid Loss: 3.457755e-05 8.338018e-05 0.00089430145 0.00074247184 7.044209e-05,  Moving Avg Valid Loss: 0.00018273634 0.00043633676 0.00048262734 0.00042725593 0.00015149692\n",
      "\u001b[2m\u001b[36m(MBMPO pid=20887)\u001b[0m Training Dynamics Ensemble - Epoch #17:Train loss: 2.4595569e-05 0.00011560856 0.0009518459 0.00066858093 4.1787836e-05, Valid Loss: 4.4351407e-05 0.000121223544 0.00089430145 0.00074247184 4.783061e-05,  Moving Avg Valid Loss: 0.0001758171 0.00042058108 0.00050321105 0.00044301673 0.0001463136\n",
      "\u001b[2m\u001b[36m(MBMPO pid=20887)\u001b[0m Training Dynamics Ensemble - Epoch #18:Train loss: 7.31913e-05 7.3449846e-05 0.0009992433 0.0007469366 8.1489416e-05, Valid Loss: 6.847686e-05 5.6492085e-05 0.00089430145 0.00074247184 8.130625e-05,  Moving Avg Valid Loss: 0.00017045009 0.00040237664 0.00052276556 0.0004579895 0.00014306323\n",
      "\u001b[2m\u001b[36m(MBMPO pid=20887)\u001b[0m Training Dynamics Ensemble - Epoch #19:Train loss: 7.018159e-05 1.8423287e-05 0.0008886645 0.0007143039 3.3506858e-05, Valid Loss: 6.762563e-05 3.0447383e-05 0.00089430145 0.00074247184 2.5142246e-05,  Moving Avg Valid Loss: 0.00016530887 0.00038378016 0.00054134236 0.0004722136 0.00013716717\n",
      "\u001b[2m\u001b[36m(MBMPO pid=20887)\u001b[0m Training Dynamics Ensemble - Epoch #20:Train loss: 0.00013757891 2.3148496e-05 0.001008099 0.00068680145 2.7176902e-05, Valid Loss: 9.064029e-05 2.181815e-05 0.00089430145 0.00074247184 6.154845e-05,  Moving Avg Valid Loss: 0.00016157544 0.00036568206 0.0005589903 0.00048572652 0.00013338623\n",
      "\u001b[2m\u001b[36m(MBMPO pid=20887)\u001b[0m Training Dynamics Ensemble - Epoch #21:Train loss: 3.5481316e-05 1.4694921e-05 0.0008728944 0.0007119613 9.6326956e-05, Valid Loss: 5.0845756e-05 1.7422082e-05 0.00089430145 0.00074247184 9.4651965e-05,  Moving Avg Valid Loss: 0.00015603896 0.00034826907 0.00057575584 0.00049856375 0.00013144952\n",
      "\u001b[2m\u001b[36m(MBMPO pid=20887)\u001b[0m Training Dynamics Ensemble - Epoch #22:Train loss: 3.2485495e-05 1.5068419e-05 0.0008630988 0.0007249384 0.00015601945, Valid Loss: 3.4839322e-05 2.2638545e-05 0.00089430145 0.00074247184 0.00017072122,  Moving Avg Valid Loss: 0.00014997898 0.00033198754 0.0005916831 0.0005107591 0.00013341311\n",
      "\u001b[2m\u001b[36m(MBMPO pid=20887)\u001b[0m Stopping Training of Model 4\n",
      "\u001b[2m\u001b[36m(MBMPO pid=20887)\u001b[0m Training Dynamics Ensemble - Epoch #23:Train loss: 8.49218e-05 2.8947543e-05 0.0009348365 0.00071407517 0.00016562402, Valid Loss: 6.519556e-05 3.350803e-05 0.00089430145 0.00074247184 0.00017072122,  Moving Avg Valid Loss: 0.0001457398 0.00031706356 0.000606814 0.0005223447 0.00013527852\n",
      "\u001b[2m\u001b[36m(MBMPO pid=20887)\u001b[0m Training Dynamics Ensemble - Epoch #24:Train loss: 5.555232e-05 2.1214077e-05 0.00086925284 0.0006574413 0.00015381737, Valid Loss: 4.6506208e-05 3.183239e-05 0.00089430145 0.00074247184 0.00017072122,  Moving Avg Valid Loss: 0.00014077812 0.00030280201 0.0006211884 0.00053335103 0.00013705065\n",
      "\u001b[2m\u001b[36m(MBMPO pid=20887)\u001b[0m Training Dynamics Ensemble - Epoch #25:Train loss: 0.00018037403 3.1064854e-05 0.0009416749 0.00075531995 0.00015284473, Valid Loss: 0.00010391477 5.3155854e-05 0.00089430145 0.00074247184 0.00017072122,  Moving Avg Valid Loss: 0.00013893495 0.0002903197 0.000634844 0.00054380705 0.00013873418\n",
      "\u001b[2m\u001b[36m(MBMPO pid=20887)\u001b[0m Training Dynamics Ensemble - Epoch #26:Train loss: 5.4091946e-05 0.00031456465 0.00094679114 0.00076687936 0.00015376564, Valid Loss: 3.493695e-05 0.0004088737 0.00089430145 0.00074247184 0.00017072122,  Moving Avg Valid Loss: 0.00013373504 0.0002962474 0.00064781687 0.00055374025 0.00014033353\n",
      "\u001b[2m\u001b[36m(MBMPO pid=20887)\u001b[0m Stopping Training of Model 1\n",
      "\u001b[2m\u001b[36m(MBMPO pid=20887)\u001b[0m Training Dynamics Ensemble - Epoch #27:Train loss: 2.4320103e-05 0.00042472436 0.00095080776 0.0006997204 0.00015306185, Valid Loss: 5.789047e-05 0.0004088737 0.00089430145 0.00074247184 0.00017072122,  Moving Avg Valid Loss: 0.00012994281 0.00030187872 0.00066014106 0.0005631768 0.00014185293\n",
      "\u001b[2m\u001b[36m(MBMPO pid=20887)\u001b[0m Training Dynamics Ensemble - Epoch #28:Train loss: 3.2744436e-05 0.0004081971 0.000993028 0.0008014777 0.00015916236, Valid Loss: 2.1262222e-05 0.0004088737 0.00089430145 0.00074247184 0.00017072122,  Moving Avg Valid Loss: 0.00012450878 0.00030722847 0.00067184906 0.00057214155 0.00014329635\n",
      "\u001b[2m\u001b[36m(MBMPO pid=20887)\u001b[0m Training Dynamics Ensemble - Epoch #29:Train loss: 1.6463151e-05 0.00040533644 0.00095542514 0.00078708545 0.00015915214, Valid Loss: 1.7059965e-05 0.0004088737 0.00089430145 0.00074247184 0.00017072122,  Moving Avg Valid Loss: 0.00011913633 0.00031231073 0.0006829717 0.00058065803 0.00014466759\n",
      "\u001b[2m\u001b[36m(MBMPO pid=20887)\u001b[0m Training Dynamics Ensemble - Epoch #30:Train loss: 2.7517413e-05 0.00041925863 0.0009854819 0.00078917475 0.0001707425, Valid Loss: 4.7292855e-05 0.0004088737 0.00089430145 0.00074247184 0.00017072122,  Moving Avg Valid Loss: 0.00011554416 0.00031713888 0.00069353817 0.00058874866 0.00014597028\n",
      "\u001b[2m\u001b[36m(MBMPO pid=20887)\u001b[0m Training Dynamics Ensemble - Epoch #31:Train loss: 6.5973036e-05 0.00038977124 0.0009533487 0.00076214044 0.00015574203, Valid Loss: 5.899548e-05 0.0004088737 0.00089430145 0.00074247184 0.00017072122,  Moving Avg Valid Loss: 0.00011271672 0.00032172562 0.0007035763 0.0005964348 0.00014720783\n",
      "\u001b[2m\u001b[36m(MBMPO pid=20887)\u001b[0m Training Dynamics Ensemble - Epoch #32:Train loss: 2.8244269e-05 0.0003918443 0.0010124339 0.0007911282 0.00017023053, Valid Loss: 6.139662e-05 0.0004088737 0.00089430145 0.00074247184 0.00017072122,  Moving Avg Valid Loss: 0.00011015071 0.000326083 0.00071311253 0.0006037366 0.00014838351\n",
      "\u001b[2m\u001b[36m(MBMPO pid=20887)\u001b[0m Training Dynamics Ensemble - Epoch #33:Train loss: 0.000276126 0.00041738158 0.00091637956 0.0007676407 0.00017407807, Valid Loss: 0.00045347185 0.0004088737 0.00089430145 0.00074247184 0.00017072122,  Moving Avg Valid Loss: 0.00012731676 0.00033022257 0.000722172 0.00061067333 0.0001495004\n",
      "\u001b[2m\u001b[36m(MBMPO pid=20887)\u001b[0m Stopping Training of Model 0\n",
      "\u001b[2m\u001b[36m(MBMPO pid=20887)\u001b[0m MB-MPO Iteration Completed\n"
     ]
    }
   ],
   "source": [
    "from ray import tune\n",
    "\n",
    "config = {\n",
    "        \"env\":\"myenv\",  \n",
    "       \"framework\": \"torch\",\n",
    "        #\"horizon\": 200,\n",
    "        \"num_envs_per_worker\": 20,\n",
    "        \"inner_adaptation_steps\": 1,\n",
    "        \"maml_optimizer_steps\": 8,\n",
    "        \"gamma\": 0.99,\n",
    "        \"lambda\": 1.0,\n",
    "        \"lr\": 0.001,\n",
    "        \"clip_param\": 0.5,\n",
    "        \"kl_target\": 0.003,\n",
    "        \"kl_coeff\": 0.0000000001,\n",
    "        \"num_workers\": 4,\n",
    "        \"num_gpus\": 0,\n",
    "        \"inner_lr\": 0.001,\n",
    "        \"clip_actions\": False,\n",
    "        \"num_maml_steps\": 15,\n",
    "        \"model\": {\n",
    "            \"fcnet_hiddens\": [32, 32],\n",
    "            \"free_log_std\": True,\n",
    "        }        \n",
    "}\n",
    "\n",
    "stop = {\n",
    "   \"episode_reward_mean\": 190,\n",
    "   \"training_iteration\": 2\n",
    "}\n",
    "\n",
    "analysis =  tune.run(\n",
    "    \"MBMPO\",\n",
    "    config=config,\n",
    "    stop=stop,\n",
    "    checkpoint_at_end=True,  \n",
    "    checkpoint_freq=5,  \n",
    "    local_dir=\"checkPoints/\",\n",
    "    verbose=1,\n",
    ")"
   ]
  },
  {
   "cell_type": "code",
   "execution_count": null,
   "id": "1909e57a-a02d-4b31-864d-d7fc355e6194",
   "metadata": {},
   "outputs": [],
   "source": []
  },
  {
   "cell_type": "code",
   "execution_count": null,
   "id": "7fced73a-90a9-4d88-b7b6-c3064491080d",
   "metadata": {},
   "outputs": [],
   "source": [
    "from ray.rllib.algorithms.mbmpo import MBMPO\n",
    "config = ray.rllib.algorithms.mbmpo.DEFAULT_CONFIG.copy()\n",
    "for k in configTuned:\n",
    "    config[k] = configTuned[k]"
   ]
  },
  {
   "cell_type": "code",
   "execution_count": 5,
   "id": "8125a9d6-cadb-4424-a656-f7d4ccce5f3a",
   "metadata": {},
   "outputs": [
    {
     "data": {
      "text/plain": [
       "<ray.rllib.algorithms.mbmpo.mbmpo.MBMPOConfig at 0x7f7361f76940>"
      ]
     },
     "execution_count": 5,
     "metadata": {},
     "output_type": "execute_result"
    }
   ],
   "source": [
    "from ray.rllib.algorithms.mbmpo.mbmpo import MBMPOConfig\n",
    "\n",
    "config = MBMPOConfig().environment(env=\"myenv\")\n",
    "config.framework(\"torch\")\n",
    "\n",
    "# # Build.\n",
    "#algo = config.build()"
   ]
  },
  {
   "cell_type": "code",
   "execution_count": null,
   "id": "135f02fc-60eb-44ad-8a2b-ca5c09d2cc1f",
   "metadata": {},
   "outputs": [],
   "source": [
    "algo = config.build()"
   ]
  },
  {
   "cell_type": "code",
   "execution_count": null,
   "id": "dbf31bc3-54d1-444a-9fff-53f94d20a0ad",
   "metadata": {},
   "outputs": [],
   "source": [
    "algo.train()"
   ]
  },
  {
   "cell_type": "code",
   "execution_count": null,
   "id": "fa3e8520-c16d-4b8a-878f-94065f2fad36",
   "metadata": {},
   "outputs": [],
   "source": []
  }
 ],
 "metadata": {
  "kernelspec": {
   "display_name": "Python 3 (ipykernel)",
   "language": "python",
   "name": "python3"
  },
  "language_info": {
   "codemirror_mode": {
    "name": "ipython",
    "version": 3
   },
   "file_extension": ".py",
   "mimetype": "text/x-python",
   "name": "python",
   "nbconvert_exporter": "python",
   "pygments_lexer": "ipython3",
   "version": "3.9.12"
  }
 },
 "nbformat": 4,
 "nbformat_minor": 5
}
